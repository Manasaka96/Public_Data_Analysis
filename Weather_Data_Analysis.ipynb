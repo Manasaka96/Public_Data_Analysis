{
  "nbformat": 4,
  "nbformat_minor": 0,
  "metadata": {
    "colab": {
      "name": "Weather_Data_Analysis.ipynb",
      "provenance": []
    },
    "kernelspec": {
      "name": "python3",
      "display_name": "Python 3"
    },
    "language_info": {
      "name": "python"
    }
  },
  "cells": [
    {
      "cell_type": "code",
      "metadata": {
        "colab": {
          "base_uri": "https://localhost:8080/"
        },
        "id": "OrQ1irsMw_01",
        "outputId": "2fe4965c-3659-47d2-f126-51ee76c04c06"
      },
      "source": [
        "!pip install fidap"
      ],
      "execution_count": 1,
      "outputs": [
        {
          "output_type": "stream",
          "text": [
            "Collecting fidap\n",
            "  Downloading https://files.pythonhosted.org/packages/9d/7c/a128c6027632c23a2d73770f745b2f496bb5656fad0205d07404bd260dc7/fidap-0.0.15-py3-none-any.whl\n",
            "Requirement already satisfied: pandas>=0.14 in /usr/local/lib/python3.7/dist-packages (from fidap) (1.1.5)\n",
            "Collecting delta-sharing\n",
            "  Downloading https://files.pythonhosted.org/packages/80/30/c4a2454eb2bf7b9a4eafb14bd7835a3aee1d84c212257300eeac00a30552/delta_sharing-0.1.0-py3-none-any.whl\n",
            "Collecting python-dotenv>=0.15.0\n",
            "  Downloading https://files.pythonhosted.org/packages/5c/0c/9c5d5dd254e9e7a32d34777cc6fd33cbeb174744061458b88470aecbd1d6/python_dotenv-0.18.0-py2.py3-none-any.whl\n",
            "Requirement already satisfied: requests>=2.7.0 in /usr/local/lib/python3.7/dist-packages (from fidap) (2.23.0)\n",
            "Requirement already satisfied: numpy>=1.8 in /usr/local/lib/python3.7/dist-packages (from fidap) (1.19.5)\n",
            "Requirement already satisfied: pytz>=2017.2 in /usr/local/lib/python3.7/dist-packages (from pandas>=0.14->fidap) (2018.9)\n",
            "Requirement already satisfied: python-dateutil>=2.7.3 in /usr/local/lib/python3.7/dist-packages (from pandas>=0.14->fidap) (2.8.1)\n",
            "Requirement already satisfied: pyarrow in /usr/local/lib/python3.7/dist-packages (from delta-sharing->fidap) (3.0.0)\n",
            "Collecting fsspec\n",
            "\u001b[?25l  Downloading https://files.pythonhosted.org/packages/0e/3a/666e63625a19883ae8e1674099e631f9737bd5478c4790e5ad49c5ac5261/fsspec-2021.6.1-py3-none-any.whl (115kB)\n",
            "\u001b[K     |████████████████████████████████| 122kB 6.5MB/s \n",
            "\u001b[?25hCollecting aiohttp\n",
            "\u001b[?25l  Downloading https://files.pythonhosted.org/packages/88/c0/5890b4c8b04a79b7360e8fe4490feb0bb3ab179743f199f0e6220cebd568/aiohttp-3.7.4.post0-cp37-cp37m-manylinux2014_x86_64.whl (1.3MB)\n",
            "\u001b[K     |████████████████████████████████| 1.3MB 23.0MB/s \n",
            "\u001b[?25hRequirement already satisfied: idna<3,>=2.5 in /usr/local/lib/python3.7/dist-packages (from requests>=2.7.0->fidap) (2.10)\n",
            "Requirement already satisfied: urllib3!=1.25.0,!=1.25.1,<1.26,>=1.21.1 in /usr/local/lib/python3.7/dist-packages (from requests>=2.7.0->fidap) (1.24.3)\n",
            "Requirement already satisfied: chardet<4,>=3.0.2 in /usr/local/lib/python3.7/dist-packages (from requests>=2.7.0->fidap) (3.0.4)\n",
            "Requirement already satisfied: certifi>=2017.4.17 in /usr/local/lib/python3.7/dist-packages (from requests>=2.7.0->fidap) (2021.5.30)\n",
            "Requirement already satisfied: six>=1.5 in /usr/local/lib/python3.7/dist-packages (from python-dateutil>=2.7.3->pandas>=0.14->fidap) (1.15.0)\n",
            "Collecting yarl<2.0,>=1.0\n",
            "\u001b[?25l  Downloading https://files.pythonhosted.org/packages/f1/62/046834c5fc998c88ab2ef722f5d42122230a632212c8afa76418324f53ff/yarl-1.6.3-cp37-cp37m-manylinux2014_x86_64.whl (294kB)\n",
            "\u001b[K     |████████████████████████████████| 296kB 37.7MB/s \n",
            "\u001b[?25hRequirement already satisfied: typing-extensions>=3.6.5 in /usr/local/lib/python3.7/dist-packages (from aiohttp->delta-sharing->fidap) (3.7.4.3)\n",
            "Collecting async-timeout<4.0,>=3.0\n",
            "  Downloading https://files.pythonhosted.org/packages/e1/1e/5a4441be21b0726c4464f3f23c8b19628372f606755a9d2e46c187e65ec4/async_timeout-3.0.1-py3-none-any.whl\n",
            "Collecting multidict<7.0,>=4.5\n",
            "\u001b[?25l  Downloading https://files.pythonhosted.org/packages/7c/a6/4123b8165acbe773d1a8dc8e3f0d1edea16d29f7de018eda769abb56bd30/multidict-5.1.0-cp37-cp37m-manylinux2014_x86_64.whl (142kB)\n",
            "\u001b[K     |████████████████████████████████| 143kB 36.1MB/s \n",
            "\u001b[?25hRequirement already satisfied: attrs>=17.3.0 in /usr/local/lib/python3.7/dist-packages (from aiohttp->delta-sharing->fidap) (21.2.0)\n",
            "Installing collected packages: fsspec, multidict, yarl, async-timeout, aiohttp, delta-sharing, python-dotenv, fidap\n",
            "Successfully installed aiohttp-3.7.4.post0 async-timeout-3.0.1 delta-sharing-0.1.0 fidap-0.0.15 fsspec-2021.6.1 multidict-5.1.0 python-dotenv-0.18.0 yarl-1.6.3\n"
          ],
          "name": "stdout"
        }
      ]
    },
    {
      "cell_type": "code",
      "metadata": {
        "colab": {
          "base_uri": "https://localhost:8080/"
        },
        "id": "_YJsQ5BExG8m",
        "outputId": "b3b40287-57ee-4e8b-9f58-d70cac7f5cd8"
      },
      "source": [
        "!pip install config"
      ],
      "execution_count": 2,
      "outputs": [
        {
          "output_type": "stream",
          "text": [
            "Collecting config\n",
            "  Downloading https://files.pythonhosted.org/packages/67/af/a7c8be986afee4cf277045cfdb06605296ff3f1a1de415d62c18a7a33040/config-0.5.0.post0-py2.py3-none-any.whl\n",
            "Installing collected packages: config\n",
            "Successfully installed config-0.5.0.post0\n"
          ],
          "name": "stdout"
        }
      ]
    },
    {
      "cell_type": "code",
      "metadata": {
        "id": "ukG85rIqxA6z"
      },
      "source": [
        "import pandas as pd\n",
        "from fidap import fidap_client\n",
        "import config\n",
        "import matplotlib.pyplot as plt\n",
        "import datetime\n",
        "import plotly.express as px"
      ],
      "execution_count": 41,
      "outputs": []
    },
    {
      "cell_type": "code",
      "metadata": {
        "id": "fkbPoXJq7Rcc"
      },
      "source": [
        "import seaborn as sns"
      ],
      "execution_count": 19,
      "outputs": []
    },
    {
      "cell_type": "code",
      "metadata": {
        "id": "Y4SRj1SKxNTT"
      },
      "source": [
        "fidap = fidap_client(api_key='bba847abed854ef38e6256823ea2d96c' )"
      ],
      "execution_count": 4,
      "outputs": []
    },
    {
      "cell_type": "code",
      "metadata": {
        "id": "JM0wBjmNxN9I"
      },
      "source": [
        "df1 = fidap.sql(\"\"\"select * from bigquery-public-data.covid19_weathersource_com.county_day_history limit 100000 \"\"\")"
      ],
      "execution_count": 58,
      "outputs": []
    },
    {
      "cell_type": "code",
      "metadata": {
        "id": "EDJoTFmZaU76"
      },
      "source": [
        ""
      ],
      "execution_count": null,
      "outputs": []
    },
    {
      "cell_type": "markdown",
      "metadata": {
        "id": "rsdBsAjDabGU"
      },
      "source": [
        "**1. Maximun temperature across each distinct date in teh dataset**"
      ]
    },
    {
      "cell_type": "code",
      "metadata": {
        "id": "Hp3dckGty6LK"
      },
      "source": [
        "tem = fidap.sql(\"\"\"SELECT  date , max(max_temperature_air_2m_f) as max_tem \n",
        "                  FROM bigquery-public-data.covid19_weathersource_com.county_day_history \n",
        "                 GROUP BY(date) \n",
        "                 LIMIT 50 \"\"\")"
      ],
      "execution_count": 29,
      "outputs": []
    },
    {
      "cell_type": "code",
      "metadata": {
        "colab": {
          "base_uri": "https://localhost:8080/",
          "height": 441
        },
        "id": "yKYlH0lsy9am",
        "outputId": "47cd41be-c1ef-4cf9-98d8-6cd1ed8142e0"
      },
      "source": [
        "\n",
        "sns.set_style('darkgrid')\n",
        "plt.figure(figsize=(10,6))\n",
        "sns.lineplot(data=tem,x='date',y='max_tem')\n",
        "_=plt.title('Maximum temperature across months from 2019 - 2021 in US')\n",
        "plt.tight_layout()"
      ],
      "execution_count": 30,
      "outputs": [
        {
          "output_type": "display_data",
          "data": {
            "image/png": "[encoded data removed]",
            "text/plain": [
              "<Figure size 720x432 with 1 Axes>"
            ]
          },
          "metadata": {
            "tags": []
          }
        }
      ]
    },
    {
      "cell_type": "code",
      "metadata": {
        "id": "_5zTeII1JZR3"
      },
      "source": [
        "# df1['year'] = pd.DatetimeIndex(df1['date']).year\n",
        "# df1['month']= pd.DatetimeIndex(df1['date']).month"
      ],
      "execution_count": 64,
      "outputs": []
    },
    {
      "cell_type": "markdown",
      "metadata": {
        "id": "7nyJ7jawDWUz"
      },
      "source": [
        "2."
      ]
    },
    {
      "cell_type": "code",
      "metadata": {
        "id": "sI2uq6fwDVr4"
      },
      "source": [
        "df2 = fidap.sql(\"\"\" \n",
        "    select * from bigquery-public-data.covid19_weathersource_com.postal_code_day_history limit 300\n",
        "\"\"\")\n"
      ],
      "execution_count": 37,
      "outputs": []
    },
    {
      "cell_type": "code",
      "metadata": {
        "id": "iKsruU2mEmhN"
      },
      "source": [
        "df2.nunique()"
      ],
      "execution_count": null,
      "outputs": []
    },
    {
      "cell_type": "markdown",
      "metadata": {
        "id": "UNB0lC2PF0uA"
      },
      "source": [
        "***2.Highest and Lowest recorded temperature in this dataset***"
      ]
    },
    {
      "cell_type": "code",
      "metadata": {
        "colab": {
          "base_uri": "https://localhost:8080/",
          "height": 111
        },
        "id": "hDESjMtiFoi8",
        "outputId": "307e9324-4d61-4703-f18b-eb87753bb18c"
      },
      "source": [
        "data1=df2.sort_values(by=['avg_temperature_air_2m_f'],ascending=False).head(1)\n",
        "data2=df2.sort_values(by=['avg_temperature_air_2m_f'],ascending=True).head(1)\n",
        "data = pd.concat([data1,data2],)\n",
        "data.index = ['Highest','Lowest']\n",
        "data[['postal_code','country','date','avg_temperature_air_2m_f']]"
      ],
      "execution_count": 47,
      "outputs": [
        {
          "output_type": "execute_result",
          "data": {
            "text/html": [
              "<div>\n",
              "<style scoped>\n",
              "    .dataframe tbody tr th:only-of-type {\n",
              "        vertical-align: middle;\n",
              "    }\n",
              "\n",
              "    .dataframe tbody tr th {\n",
              "        vertical-align: top;\n",
              "    }\n",
              "\n",
              "    .dataframe thead th {\n",
              "        text-align: right;\n",
              "    }\n",
              "</style>\n",
              "<table border=\"1\" class=\"dataframe\">\n",
              "  <thead>\n",
              "    <tr style=\"text-align: right;\">\n",
              "      <th></th>\n",
              "      <th>postal_code</th>\n",
              "      <th>country</th>\n",
              "      <th>date</th>\n",
              "      <th>avg_temperature_air_2m_f</th>\n",
              "    </tr>\n",
              "  </thead>\n",
              "  <tbody>\n",
              "    <tr>\n",
              "      <th>Highest</th>\n",
              "      <td>12130</td>\n",
              "      <td>US</td>\n",
              "      <td>2019-10-17</td>\n",
              "      <td>47.7</td>\n",
              "    </tr>\n",
              "    <tr>\n",
              "      <th>Lowest</th>\n",
              "      <td>091-0162</td>\n",
              "      <td>JP</td>\n",
              "      <td>2019-10-17</td>\n",
              "      <td>34.1</td>\n",
              "    </tr>\n",
              "  </tbody>\n",
              "</table>\n",
              "</div>"
            ],
            "text/plain": [
              "        postal_code country       date  avg_temperature_air_2m_f\n",
              "Highest       12130      US 2019-10-17                      47.7\n",
              "Lowest     091-0162      JP 2019-10-17                      34.1"
            ]
          },
          "metadata": {
            "tags": []
          },
          "execution_count": 47
        }
      ]
    },
    {
      "cell_type": "code",
      "metadata": {
        "colab": {
          "base_uri": "https://localhost:8080/",
          "height": 542
        },
        "id": "A4G6txgoGJHy",
        "outputId": "658e9235-1d3f-44de-d471-1d3c9e4eaf86"
      },
      "source": [
        "px.scatter_geo(lat=[36.2048,37.0902],lon=[138.2529,265.7129],text=['JP','US'],size=[0.5,0.5],color=[110,-50],color_continuous_scale='bluered')"
      ],
      "execution_count": 46,
      "outputs": [
        {
          "output_type": "display_data",
          "data": {
            "text/html": [
              "<html>\n",
              "<head><meta charset=\"utf-8\" /></head>\n",
              "<body>\n",
              "    <div>\n",
              "            <script src=\"https://cdnjs.cloudflare.com/ajax/libs/mathjax/2.7.5/MathJax.js?config=TeX-AMS-MML_SVG\"></script><script type=\"text/javascript\">if (window.MathJax) {MathJax.Hub.Config({SVG: {font: \"STIX-Web\"}});}</script>\n",
              "                <script type=\"text/javascript\">window.PlotlyConfig = {MathJaxConfig: 'local'};</script>\n",
              "        <script src=\"https://cdn.plot.ly/plotly-latest.min.js\"></script>    \n",
              "            <div id=\"8116106a-20cd-4714-b50d-ba2a640a0c52\" class=\"plotly-graph-div\" style=\"height:525px; width:100%;\"></div>\n",
              "            <script type=\"text/javascript\">\n",
              "                \n",
              "                    window.PLOTLYENV=window.PLOTLYENV || {};\n",
              "                    \n",
              "                if (document.getElementById(\"8116106a-20cd-4714-b50d-ba2a640a0c52\")) {\n",
              "                    Plotly.newPlot(\n",
              "                        '8116106a-20cd-4714-b50d-ba2a640a0c52',\n",
              "                        [{\"geo\": \"geo\", \"hoverlabel\": {\"namelength\": 0}, \"hovertemplate\": \"size=%{marker.size}<br>text=%{text}<br>lat=%{lat}<br>lon=%{lon}<br>color=%{marker.color}\", \"lat\": [36.2048, 37.0902], \"legendgroup\": \"\", \"lon\": [138.2529, 265.7129], \"marker\": {\"color\": [110, -50], \"coloraxis\": \"coloraxis\", \"size\": [0.5, 0.5], \"sizemode\": \"area\", \"sizeref\": 0.00125}, \"name\": \"\", \"showlegend\": false, \"text\": [\"JP\", \"US\"], \"type\": \"scattergeo\"}],\n",
              "                        {\"coloraxis\": {\"colorbar\": {\"title\": {\"text\": \"color\"}}, \"colorscale\": [[0.0, \"rgb(0,0,255)\"], [1.0, \"rgb(255,0,0)\"]]}, \"geo\": {\"center\": {}, \"domain\": {\"x\": [0.0, 1.0], \"y\": [0.0, 1.0]}}, \"legend\": {\"itemsizing\": \"constant\", \"tracegroupgap\": 0}, \"margin\": {\"t\": 60}, \"template\": {\"data\": {\"bar\": [{\"error_x\": {\"color\": \"#2a3f5f\"}, \"error_y\": {\"color\": \"#2a3f5f\"}, \"marker\": {\"line\": {\"color\": \"#E5ECF6\", \"width\": 0.5}}, \"type\": \"bar\"}], \"barpolar\": [{\"marker\": {\"line\": {\"color\": \"#E5ECF6\", \"width\": 0.5}}, \"type\": \"barpolar\"}], \"carpet\": [{\"aaxis\": {\"endlinecolor\": \"#2a3f5f\", \"gridcolor\": \"white\", \"linecolor\": \"white\", \"minorgridcolor\": \"white\", \"startlinecolor\": \"#2a3f5f\"}, \"baxis\": {\"endlinecolor\": \"#2a3f5f\", \"gridcolor\": \"white\", \"linecolor\": \"white\", \"minorgridcolor\": \"white\", \"startlinecolor\": \"#2a3f5f\"}, \"type\": \"carpet\"}], \"choropleth\": [{\"colorbar\": {\"outlinewidth\": 0, \"ticks\": \"\"}, \"type\": \"choropleth\"}], \"contour\": [{\"colorbar\": {\"outlinewidth\": 0, \"ticks\": \"\"}, \"colorscale\": [[0.0, \"#0d0887\"], [0.1111111111111111, \"#46039f\"], [0.2222222222222222, \"#7201a8\"], [0.3333333333333333, \"#9c179e\"], [0.4444444444444444, \"#bd3786\"], [0.5555555555555556, \"#d8576b\"], [0.6666666666666666, \"#ed7953\"], [0.7777777777777778, \"#fb9f3a\"], [0.8888888888888888, \"#fdca26\"], [1.0, \"#f0f921\"]], \"type\": \"contour\"}], \"contourcarpet\": [{\"colorbar\": {\"outlinewidth\": 0, \"ticks\": \"\"}, \"type\": \"contourcarpet\"}], \"heatmap\": [{\"colorbar\": {\"outlinewidth\": 0, \"ticks\": \"\"}, \"colorscale\": [[0.0, \"#0d0887\"], [0.1111111111111111, \"#46039f\"], [0.2222222222222222, \"#7201a8\"], [0.3333333333333333, \"#9c179e\"], [0.4444444444444444, \"#bd3786\"], [0.5555555555555556, \"#d8576b\"], [0.6666666666666666, \"#ed7953\"], [0.7777777777777778, \"#fb9f3a\"], [0.8888888888888888, \"#fdca26\"], [1.0, \"#f0f921\"]], \"type\": \"heatmap\"}], \"heatmapgl\": [{\"colorbar\": {\"outlinewidth\": 0, \"ticks\": \"\"}, \"colorscale\": [[0.0, \"#0d0887\"], [0.1111111111111111, \"#46039f\"], [0.2222222222222222, \"#7201a8\"], [0.3333333333333333, \"#9c179e\"], [0.4444444444444444, \"#bd3786\"], [0.5555555555555556, \"#d8576b\"], [0.6666666666666666, \"#ed7953\"], [0.7777777777777778, \"#fb9f3a\"], [0.8888888888888888, \"#fdca26\"], [1.0, \"#f0f921\"]], \"type\": \"heatmapgl\"}], \"histogram\": [{\"marker\": {\"colorbar\": {\"outlinewidth\": 0, \"ticks\": \"\"}}, \"type\": \"histogram\"}], \"histogram2d\": [{\"colorbar\": {\"outlinewidth\": 0, \"ticks\": \"\"}, \"colorscale\": [[0.0, \"#0d0887\"], [0.1111111111111111, \"#46039f\"], [0.2222222222222222, \"#7201a8\"], [0.3333333333333333, \"#9c179e\"], [0.4444444444444444, \"#bd3786\"], [0.5555555555555556, \"#d8576b\"], [0.6666666666666666, \"#ed7953\"], [0.7777777777777778, \"#fb9f3a\"], [0.8888888888888888, \"#fdca26\"], [1.0, \"#f0f921\"]], \"type\": \"histogram2d\"}], \"histogram2dcontour\": [{\"colorbar\": {\"outlinewidth\": 0, \"ticks\": \"\"}, \"colorscale\": [[0.0, \"#0d0887\"], [0.1111111111111111, \"#46039f\"], [0.2222222222222222, \"#7201a8\"], [0.3333333333333333, \"#9c179e\"], [0.4444444444444444, \"#bd3786\"], [0.5555555555555556, \"#d8576b\"], [0.6666666666666666, \"#ed7953\"], [0.7777777777777778, \"#fb9f3a\"], [0.8888888888888888, \"#fdca26\"], [1.0, \"#f0f921\"]], \"type\": \"histogram2dcontour\"}], \"mesh3d\": [{\"colorbar\": {\"outlinewidth\": 0, \"ticks\": \"\"}, \"type\": \"mesh3d\"}], \"parcoords\": [{\"line\": {\"colorbar\": {\"outlinewidth\": 0, \"ticks\": \"\"}}, \"type\": \"parcoords\"}], \"pie\": [{\"automargin\": true, \"type\": \"pie\"}], \"scatter\": [{\"marker\": {\"colorbar\": {\"outlinewidth\": 0, \"ticks\": \"\"}}, \"type\": \"scatter\"}], \"scatter3d\": [{\"line\": {\"colorbar\": {\"outlinewidth\": 0, \"ticks\": \"\"}}, \"marker\": {\"colorbar\": {\"outlinewidth\": 0, \"ticks\": \"\"}}, \"type\": \"scatter3d\"}], \"scattercarpet\": [{\"marker\": {\"colorbar\": {\"outlinewidth\": 0, \"ticks\": \"\"}}, \"type\": \"scattercarpet\"}], \"scattergeo\": [{\"marker\": {\"colorbar\": {\"outlinewidth\": 0, \"ticks\": \"\"}}, \"type\": \"scattergeo\"}], \"scattergl\": [{\"marker\": {\"colorbar\": {\"outlinewidth\": 0, \"ticks\": \"\"}}, \"type\": \"scattergl\"}], \"scattermapbox\": [{\"marker\": {\"colorbar\": {\"outlinewidth\": 0, \"ticks\": \"\"}}, \"type\": \"scattermapbox\"}], \"scatterpolar\": [{\"marker\": {\"colorbar\": {\"outlinewidth\": 0, \"ticks\": \"\"}}, \"type\": \"scatterpolar\"}], \"scatterpolargl\": [{\"marker\": {\"colorbar\": {\"outlinewidth\": 0, \"ticks\": \"\"}}, \"type\": \"scatterpolargl\"}], \"scatterternary\": [{\"marker\": {\"colorbar\": {\"outlinewidth\": 0, \"ticks\": \"\"}}, \"type\": \"scatterternary\"}], \"surface\": [{\"colorbar\": {\"outlinewidth\": 0, \"ticks\": \"\"}, \"colorscale\": [[0.0, \"#0d0887\"], [0.1111111111111111, \"#46039f\"], [0.2222222222222222, \"#7201a8\"], [0.3333333333333333, \"#9c179e\"], [0.4444444444444444, \"#bd3786\"], [0.5555555555555556, \"#d8576b\"], [0.6666666666666666, \"#ed7953\"], [0.7777777777777778, \"#fb9f3a\"], [0.8888888888888888, \"#fdca26\"], [1.0, \"#f0f921\"]], \"type\": \"surface\"}], \"table\": [{\"cells\": {\"fill\": {\"color\": \"#EBF0F8\"}, \"line\": {\"color\": \"white\"}}, \"header\": {\"fill\": {\"color\": \"#C8D4E3\"}, \"line\": {\"color\": \"white\"}}, \"type\": \"table\"}]}, \"layout\": {\"annotationdefaults\": {\"arrowcolor\": \"#2a3f5f\", \"arrowhead\": 0, \"arrowwidth\": 1}, \"coloraxis\": {\"colorbar\": {\"outlinewidth\": 0, \"ticks\": \"\"}}, \"colorscale\": {\"diverging\": [[0, \"#8e0152\"], [0.1, \"#c51b7d\"], [0.2, \"#de77ae\"], [0.3, \"#f1b6da\"], [0.4, \"#fde0ef\"], [0.5, \"#f7f7f7\"], [0.6, \"#e6f5d0\"], [0.7, \"#b8e186\"], [0.8, \"#7fbc41\"], [0.9, \"#4d9221\"], [1, \"#276419\"]], \"sequential\": [[0.0, \"#0d0887\"], [0.1111111111111111, \"#46039f\"], [0.2222222222222222, \"#7201a8\"], [0.3333333333333333, \"#9c179e\"], [0.4444444444444444, \"#bd3786\"], [0.5555555555555556, \"#d8576b\"], [0.6666666666666666, \"#ed7953\"], [0.7777777777777778, \"#fb9f3a\"], [0.8888888888888888, \"#fdca26\"], [1.0, \"#f0f921\"]], \"sequentialminus\": [[0.0, \"#0d0887\"], [0.1111111111111111, \"#46039f\"], [0.2222222222222222, \"#7201a8\"], [0.3333333333333333, \"#9c179e\"], [0.4444444444444444, \"#bd3786\"], [0.5555555555555556, \"#d8576b\"], [0.6666666666666666, \"#ed7953\"], [0.7777777777777778, \"#fb9f3a\"], [0.8888888888888888, \"#fdca26\"], [1.0, \"#f0f921\"]]}, \"colorway\": [\"#636efa\", \"#EF553B\", \"#00cc96\", \"#ab63fa\", \"#FFA15A\", \"#19d3f3\", \"#FF6692\", \"#B6E880\", \"#FF97FF\", \"#FECB52\"], \"font\": {\"color\": \"#2a3f5f\"}, \"geo\": {\"bgcolor\": \"white\", \"lakecolor\": \"white\", \"landcolor\": \"#E5ECF6\", \"showlakes\": true, \"showland\": true, \"subunitcolor\": \"white\"}, \"hoverlabel\": {\"align\": \"left\"}, \"hovermode\": \"closest\", \"mapbox\": {\"style\": \"light\"}, \"paper_bgcolor\": \"white\", \"plot_bgcolor\": \"#E5ECF6\", \"polar\": {\"angularaxis\": {\"gridcolor\": \"white\", \"linecolor\": \"white\", \"ticks\": \"\"}, \"bgcolor\": \"#E5ECF6\", \"radialaxis\": {\"gridcolor\": \"white\", \"linecolor\": \"white\", \"ticks\": \"\"}}, \"scene\": {\"xaxis\": {\"backgroundcolor\": \"#E5ECF6\", \"gridcolor\": \"white\", \"gridwidth\": 2, \"linecolor\": \"white\", \"showbackground\": true, \"ticks\": \"\", \"zerolinecolor\": \"white\"}, \"yaxis\": {\"backgroundcolor\": \"#E5ECF6\", \"gridcolor\": \"white\", \"gridwidth\": 2, \"linecolor\": \"white\", \"showbackground\": true, \"ticks\": \"\", \"zerolinecolor\": \"white\"}, \"zaxis\": {\"backgroundcolor\": \"#E5ECF6\", \"gridcolor\": \"white\", \"gridwidth\": 2, \"linecolor\": \"white\", \"showbackground\": true, \"ticks\": \"\", \"zerolinecolor\": \"white\"}}, \"shapedefaults\": {\"line\": {\"color\": \"#2a3f5f\"}}, \"ternary\": {\"aaxis\": {\"gridcolor\": \"white\", \"linecolor\": \"white\", \"ticks\": \"\"}, \"baxis\": {\"gridcolor\": \"white\", \"linecolor\": \"white\", \"ticks\": \"\"}, \"bgcolor\": \"#E5ECF6\", \"caxis\": {\"gridcolor\": \"white\", \"linecolor\": \"white\", \"ticks\": \"\"}}, \"title\": {\"x\": 0.05}, \"xaxis\": {\"automargin\": true, \"gridcolor\": \"white\", \"linecolor\": \"white\", \"ticks\": \"\", \"title\": {\"standoff\": 15}, \"zerolinecolor\": \"white\", \"zerolinewidth\": 2}, \"yaxis\": {\"automargin\": true, \"gridcolor\": \"white\", \"linecolor\": \"white\", \"ticks\": \"\", \"title\": {\"standoff\": 15}, \"zerolinecolor\": \"white\", \"zerolinewidth\": 2}}}},\n",
              "                        {\"responsive\": true}\n",
              "                    ).then(function(){\n",
              "                            \n",
              "var gd = document.getElementById('8116106a-20cd-4714-b50d-ba2a640a0c52');\n",
              "var x = new MutationObserver(function (mutations, observer) {{\n",
              "        var display = window.getComputedStyle(gd).display;\n",
              "        if (!display || display === 'none') {{\n",
              "            console.log([gd, 'removed!']);\n",
              "            Plotly.purge(gd);\n",
              "            observer.disconnect();\n",
              "        }}\n",
              "}});\n",
              "\n",
              "// Listen for the removal of the full notebook cells\n",
              "var notebookContainer = gd.closest('#notebook-container');\n",
              "if (notebookContainer) {{\n",
              "    x.observe(notebookContainer, {childList: true});\n",
              "}}\n",
              "\n",
              "// Listen for the clearing of the current output cell\n",
              "var outputEl = gd.closest('.output');\n",
              "if (outputEl) {{\n",
              "    x.observe(outputEl, {childList: true});\n",
              "}}\n",
              "\n",
              "                        })\n",
              "                };\n",
              "                \n",
              "            </script>\n",
              "        </div>\n",
              "</body>\n",
              "</html>"
            ]
          },
          "metadata": {
            "tags": []
          }
        }
      ]
    },
    {
      "cell_type": "markdown",
      "metadata": {
        "id": "fRY2DQR7Solc"
      },
      "source": [
        "**3. 10 hottest countries in the dataset**"
      ]
    },
    {
      "cell_type": "code",
      "metadata": {
        "id": "JnPp1-hQL6DQ"
      },
      "source": [
        "hot_country =  fidap.sql(\"\"\" \n",
        "    select country, avg (max_temperature_air_2m_f) as max_tem \n",
        "    from bigquery-public-data.covid19_weathersource_com.postal_code_day_history\n",
        "    group by country\n",
        "    order by  max_tem desc\n",
        "    limit 10\n",
        "\"\"\")\n"
      ],
      "execution_count": 122,
      "outputs": []
    },
    {
      "cell_type": "code",
      "metadata": {
        "colab": {
          "base_uri": "https://localhost:8080/"
        },
        "id": "g5_cjMGRcHtt",
        "outputId": "606d8f10-e8d4-4f9e-c4eb-c71571414128"
      },
      "source": [
        "df2.columns"
      ],
      "execution_count": 129,
      "outputs": [
        {
          "output_type": "execute_result",
          "data": {
            "text/plain": [
              "Index(['postal_code', 'country', 'date', 'min_temperature_air_2m_f',\n",
              "       'avg_temperature_air_2m_f', 'max_temperature_air_2m_f',\n",
              "       'min_humidity_relative_2m_pct', 'avg_humidity_relative_2m_pct',\n",
              "       'max_humidity_relative_2m_pct', 'min_humidity_specific_2m_gpkg',\n",
              "       'avg_humidity_specific_2m_gpkg', 'max_humidity_specific_2m_gpkg'],\n",
              "      dtype='object')"
            ]
          },
          "metadata": {
            "tags": []
          },
          "execution_count": 129
        }
      ]
    },
    {
      "cell_type": "markdown",
      "metadata": {
        "id": "SxtyvaDUhTm5"
      },
      "source": [
        "**4. 10 Coldest countries in the dataset**"
      ]
    },
    {
      "cell_type": "code",
      "metadata": {
        "id": "lgTdwRfHcAhh"
      },
      "source": [
        "cold_country =  fidap.sql(\"\"\" \n",
        "    select country, avg (max_humidity_relative_2m_pct) as max_hum \n",
        "    from bigquery-public-data.covid19_weathersource_com.postal_code_day_history\n",
        "    group by country\n",
        "    order by  max_hum desc\n",
        "    limit 10\n",
        "\"\"\")\n"
      ],
      "execution_count": 130,
      "outputs": []
    },
    {
      "cell_type": "code",
      "metadata": {
        "colab": {
          "base_uri": "https://localhost:8080/",
          "height": 359
        },
        "id": "Ko_OR__hZWk1",
        "outputId": "f00e187b-4cc6-4614-e397-d571423e7da9"
      },
      "source": [
        "hot_country"
      ],
      "execution_count": 123,
      "outputs": [
        {
          "output_type": "execute_result",
          "data": {
            "text/html": [
              "<div>\n",
              "<style scoped>\n",
              "    .dataframe tbody tr th:only-of-type {\n",
              "        vertical-align: middle;\n",
              "    }\n",
              "\n",
              "    .dataframe tbody tr th {\n",
              "        vertical-align: top;\n",
              "    }\n",
              "\n",
              "    .dataframe thead th {\n",
              "        text-align: right;\n",
              "    }\n",
              "</style>\n",
              "<table border=\"1\" class=\"dataframe\">\n",
              "  <thead>\n",
              "    <tr style=\"text-align: right;\">\n",
              "      <th></th>\n",
              "      <th>country</th>\n",
              "      <th>max_tem</th>\n",
              "    </tr>\n",
              "  </thead>\n",
              "  <tbody>\n",
              "    <tr>\n",
              "      <th>0</th>\n",
              "      <td>NE</td>\n",
              "      <td>102.033623</td>\n",
              "    </tr>\n",
              "    <tr>\n",
              "      <th>1</th>\n",
              "      <td>SN</td>\n",
              "      <td>99.240783</td>\n",
              "    </tr>\n",
              "    <tr>\n",
              "      <th>2</th>\n",
              "      <td>SD</td>\n",
              "      <td>95.986230</td>\n",
              "    </tr>\n",
              "    <tr>\n",
              "      <th>3</th>\n",
              "      <td>NG</td>\n",
              "      <td>94.319267</td>\n",
              "    </tr>\n",
              "    <tr>\n",
              "      <th>4</th>\n",
              "      <td>GW</td>\n",
              "      <td>94.182755</td>\n",
              "    </tr>\n",
              "    <tr>\n",
              "      <th>5</th>\n",
              "      <td>MM</td>\n",
              "      <td>92.728494</td>\n",
              "    </tr>\n",
              "    <tr>\n",
              "      <th>6</th>\n",
              "      <td>GN</td>\n",
              "      <td>92.592697</td>\n",
              "    </tr>\n",
              "    <tr>\n",
              "      <th>7</th>\n",
              "      <td>KH</td>\n",
              "      <td>91.368277</td>\n",
              "    </tr>\n",
              "    <tr>\n",
              "      <th>8</th>\n",
              "      <td>SS</td>\n",
              "      <td>91.319750</td>\n",
              "    </tr>\n",
              "    <tr>\n",
              "      <th>9</th>\n",
              "      <td>OM</td>\n",
              "      <td>89.280125</td>\n",
              "    </tr>\n",
              "  </tbody>\n",
              "</table>\n",
              "</div>"
            ],
            "text/plain": [
              "  country     max_tem\n",
              "0      NE  102.033623\n",
              "1      SN   99.240783\n",
              "2      SD   95.986230\n",
              "3      NG   94.319267\n",
              "4      GW   94.182755\n",
              "5      MM   92.728494\n",
              "6      GN   92.592697\n",
              "7      KH   91.368277\n",
              "8      SS   91.319750\n",
              "9      OM   89.280125"
            ]
          },
          "metadata": {
            "tags": []
          },
          "execution_count": 123
        }
      ]
    },
    {
      "cell_type": "code",
      "metadata": {
        "colab": {
          "base_uri": "https://localhost:8080/",
          "height": 359
        },
        "id": "WmAjgmHAcSoW",
        "outputId": "e0f33c6e-a165-4268-bf85-cba16792826f"
      },
      "source": [
        "cold_country"
      ],
      "execution_count": 131,
      "outputs": [
        {
          "output_type": "execute_result",
          "data": {
            "text/html": [
              "<div>\n",
              "<style scoped>\n",
              "    .dataframe tbody tr th:only-of-type {\n",
              "        vertical-align: middle;\n",
              "    }\n",
              "\n",
              "    .dataframe tbody tr th {\n",
              "        vertical-align: top;\n",
              "    }\n",
              "\n",
              "    .dataframe thead th {\n",
              "        text-align: right;\n",
              "    }\n",
              "</style>\n",
              "<table border=\"1\" class=\"dataframe\">\n",
              "  <thead>\n",
              "    <tr style=\"text-align: right;\">\n",
              "      <th></th>\n",
              "      <th>country</th>\n",
              "      <th>max_hum</th>\n",
              "    </tr>\n",
              "  </thead>\n",
              "  <tbody>\n",
              "    <tr>\n",
              "      <th>0</th>\n",
              "      <td>GS</td>\n",
              "      <td>98.422777</td>\n",
              "    </tr>\n",
              "    <tr>\n",
              "      <th>1</th>\n",
              "      <td>AD</td>\n",
              "      <td>96.467796</td>\n",
              "    </tr>\n",
              "    <tr>\n",
              "      <th>2</th>\n",
              "      <td>LI</td>\n",
              "      <td>96.385575</td>\n",
              "    </tr>\n",
              "    <tr>\n",
              "      <th>3</th>\n",
              "      <td>EC</td>\n",
              "      <td>95.747059</td>\n",
              "    </tr>\n",
              "    <tr>\n",
              "      <th>4</th>\n",
              "      <td>GT</td>\n",
              "      <td>95.488181</td>\n",
              "    </tr>\n",
              "    <tr>\n",
              "      <th>5</th>\n",
              "      <td>AT</td>\n",
              "      <td>95.443583</td>\n",
              "    </tr>\n",
              "    <tr>\n",
              "      <th>6</th>\n",
              "      <td>MY</td>\n",
              "      <td>95.388198</td>\n",
              "    </tr>\n",
              "    <tr>\n",
              "      <th>7</th>\n",
              "      <td>SI</td>\n",
              "      <td>95.362815</td>\n",
              "    </tr>\n",
              "    <tr>\n",
              "      <th>8</th>\n",
              "      <td>BN</td>\n",
              "      <td>95.359431</td>\n",
              "    </tr>\n",
              "    <tr>\n",
              "      <th>9</th>\n",
              "      <td>CH</td>\n",
              "      <td>95.346014</td>\n",
              "    </tr>\n",
              "  </tbody>\n",
              "</table>\n",
              "</div>"
            ],
            "text/plain": [
              "  country    max_hum\n",
              "0      GS  98.422777\n",
              "1      AD  96.467796\n",
              "2      LI  96.385575\n",
              "3      EC  95.747059\n",
              "4      GT  95.488181\n",
              "5      AT  95.443583\n",
              "6      MY  95.388198\n",
              "7      SI  95.362815\n",
              "8      BN  95.359431\n",
              "9      CH  95.346014"
            ]
          },
          "metadata": {
            "tags": []
          },
          "execution_count": 131
        }
      ]
    },
    {
      "cell_type": "code",
      "metadata": {
        "colab": {
          "base_uri": "https://localhost:8080/",
          "height": 542
        },
        "id": "NWfejaDhSnXC",
        "outputId": "a3d4489d-61f7-4294-bda1-1145f316eda7"
      },
      "source": [
        "data = hot_country[['country','max_tem']].groupby(['country']).mean().reset_index()\n",
        "px.choropleth(data_frame=data,locations=\"country\",\n",
        "              color=\"max_tem\",color_continuous_scale = \"bugn\",title=\" Top 10 Hottest place by country \")"
      ],
      "execution_count": 127,
      "outputs": [
        {
          "output_type": "display_data",
          "data": {
            "text/html": [
              "<html>\n",
              "<head><meta charset=\"utf-8\" /></head>\n",
              "<body>\n",
              "    <div>\n",
              "            <script src=\"https://cdnjs.cloudflare.com/ajax/libs/mathjax/2.7.5/MathJax.js?config=TeX-AMS-MML_SVG\"></script><script type=\"text/javascript\">if (window.MathJax) {MathJax.Hub.Config({SVG: {font: \"STIX-Web\"}});}</script>\n",
              "                <script type=\"text/javascript\">window.PlotlyConfig = {MathJaxConfig: 'local'};</script>\n",
              "        <script src=\"https://cdn.plot.ly/plotly-latest.min.js\"></script>    \n",
              "            <div id=\"93c52380-5e5b-4874-a887-d5fcab43a601\" class=\"plotly-graph-div\" style=\"height:525px; width:100%;\"></div>\n",
              "            <script type=\"text/javascript\">\n",
              "                \n",
              "                    window.PLOTLYENV=window.PLOTLYENV || {};\n",
              "                    \n",
              "                if (document.getElementById(\"93c52380-5e5b-4874-a887-d5fcab43a601\")) {\n",
              "                    Plotly.newPlot(\n",
              "                        '93c52380-5e5b-4874-a887-d5fcab43a601',\n",
              "                        [{\"coloraxis\": \"coloraxis\", \"geo\": \"geo\", \"hoverlabel\": {\"namelength\": 0}, \"hovertemplate\": \"country=%{location}<br>max_tem=%{z}\", \"locations\": [\"GN\", \"GW\", \"KH\", \"MM\", \"NE\", \"NG\", \"OM\", \"SD\", \"SN\", \"SS\"], \"name\": \"\", \"type\": \"choropleth\", \"z\": [92.5926972941, 94.1827553102, 91.3682773681, 92.7284935535, 102.0336232449, 94.3192673425, 89.280124805, 95.9862298492, 99.2407830507, 91.31975039]}],\n",
              "                        {\"coloraxis\": {\"colorbar\": {\"title\": {\"text\": \"max_tem\"}}, \"colorscale\": [[0.0, \"rgb(247,252,253)\"], [0.125, \"rgb(229,245,249)\"], [0.25, \"rgb(204,236,230)\"], [0.375, \"rgb(153,216,201)\"], [0.5, \"rgb(102,194,164)\"], [0.625, \"rgb(65,174,118)\"], [0.75, \"rgb(35,139,69)\"], [0.875, \"rgb(0,109,44)\"], [1.0, \"rgb(0,68,27)\"]]}, \"geo\": {\"center\": {}, \"domain\": {\"x\": [0.0, 1.0], \"y\": [0.0, 1.0]}}, \"legend\": {\"tracegroupgap\": 0}, \"template\": {\"data\": {\"bar\": [{\"error_x\": {\"color\": \"#2a3f5f\"}, \"error_y\": {\"color\": \"#2a3f5f\"}, \"marker\": {\"line\": {\"color\": \"#E5ECF6\", \"width\": 0.5}}, \"type\": \"bar\"}], \"barpolar\": [{\"marker\": {\"line\": {\"color\": \"#E5ECF6\", \"width\": 0.5}}, \"type\": \"barpolar\"}], \"carpet\": [{\"aaxis\": {\"endlinecolor\": \"#2a3f5f\", \"gridcolor\": \"white\", \"linecolor\": \"white\", \"minorgridcolor\": \"white\", \"startlinecolor\": \"#2a3f5f\"}, \"baxis\": {\"endlinecolor\": \"#2a3f5f\", \"gridcolor\": \"white\", \"linecolor\": \"white\", \"minorgridcolor\": \"white\", \"startlinecolor\": \"#2a3f5f\"}, \"type\": \"carpet\"}], \"choropleth\": [{\"colorbar\": {\"outlinewidth\": 0, \"ticks\": \"\"}, \"type\": \"choropleth\"}], \"contour\": [{\"colorbar\": {\"outlinewidth\": 0, \"ticks\": \"\"}, \"colorscale\": [[0.0, \"#0d0887\"], [0.1111111111111111, \"#46039f\"], [0.2222222222222222, \"#7201a8\"], [0.3333333333333333, \"#9c179e\"], [0.4444444444444444, \"#bd3786\"], [0.5555555555555556, \"#d8576b\"], [0.6666666666666666, \"#ed7953\"], [0.7777777777777778, \"#fb9f3a\"], [0.8888888888888888, \"#fdca26\"], [1.0, \"#f0f921\"]], \"type\": \"contour\"}], \"contourcarpet\": [{\"colorbar\": {\"outlinewidth\": 0, \"ticks\": \"\"}, \"type\": \"contourcarpet\"}], \"heatmap\": [{\"colorbar\": {\"outlinewidth\": 0, \"ticks\": \"\"}, \"colorscale\": [[0.0, \"#0d0887\"], [0.1111111111111111, \"#46039f\"], [0.2222222222222222, \"#7201a8\"], [0.3333333333333333, \"#9c179e\"], [0.4444444444444444, \"#bd3786\"], [0.5555555555555556, \"#d8576b\"], [0.6666666666666666, \"#ed7953\"], [0.7777777777777778, \"#fb9f3a\"], [0.8888888888888888, \"#fdca26\"], [1.0, \"#f0f921\"]], \"type\": \"heatmap\"}], \"heatmapgl\": [{\"colorbar\": {\"outlinewidth\": 0, \"ticks\": \"\"}, \"colorscale\": [[0.0, \"#0d0887\"], [0.1111111111111111, \"#46039f\"], [0.2222222222222222, \"#7201a8\"], [0.3333333333333333, \"#9c179e\"], [0.4444444444444444, \"#bd3786\"], [0.5555555555555556, \"#d8576b\"], [0.6666666666666666, \"#ed7953\"], [0.7777777777777778, \"#fb9f3a\"], [0.8888888888888888, \"#fdca26\"], [1.0, \"#f0f921\"]], \"type\": \"heatmapgl\"}], \"histogram\": [{\"marker\": {\"colorbar\": {\"outlinewidth\": 0, \"ticks\": \"\"}}, \"type\": \"histogram\"}], \"histogram2d\": [{\"colorbar\": {\"outlinewidth\": 0, \"ticks\": \"\"}, \"colorscale\": [[0.0, \"#0d0887\"], [0.1111111111111111, \"#46039f\"], [0.2222222222222222, \"#7201a8\"], [0.3333333333333333, \"#9c179e\"], [0.4444444444444444, \"#bd3786\"], [0.5555555555555556, \"#d8576b\"], [0.6666666666666666, \"#ed7953\"], [0.7777777777777778, \"#fb9f3a\"], [0.8888888888888888, \"#fdca26\"], [1.0, \"#f0f921\"]], \"type\": \"histogram2d\"}], \"histogram2dcontour\": [{\"colorbar\": {\"outlinewidth\": 0, \"ticks\": \"\"}, \"colorscale\": [[0.0, \"#0d0887\"], [0.1111111111111111, \"#46039f\"], [0.2222222222222222, \"#7201a8\"], [0.3333333333333333, \"#9c179e\"], [0.4444444444444444, \"#bd3786\"], [0.5555555555555556, \"#d8576b\"], [0.6666666666666666, \"#ed7953\"], [0.7777777777777778, \"#fb9f3a\"], [0.8888888888888888, \"#fdca26\"], [1.0, \"#f0f921\"]], \"type\": \"histogram2dcontour\"}], \"mesh3d\": [{\"colorbar\": {\"outlinewidth\": 0, \"ticks\": \"\"}, \"type\": \"mesh3d\"}], \"parcoords\": [{\"line\": {\"colorbar\": {\"outlinewidth\": 0, \"ticks\": \"\"}}, \"type\": \"parcoords\"}], \"pie\": [{\"automargin\": true, \"type\": \"pie\"}], \"scatter\": [{\"marker\": {\"colorbar\": {\"outlinewidth\": 0, \"ticks\": \"\"}}, \"type\": \"scatter\"}], \"scatter3d\": [{\"line\": {\"colorbar\": {\"outlinewidth\": 0, \"ticks\": \"\"}}, \"marker\": {\"colorbar\": {\"outlinewidth\": 0, \"ticks\": \"\"}}, \"type\": \"scatter3d\"}], \"scattercarpet\": [{\"marker\": {\"colorbar\": {\"outlinewidth\": 0, \"ticks\": \"\"}}, \"type\": \"scattercarpet\"}], \"scattergeo\": [{\"marker\": {\"colorbar\": {\"outlinewidth\": 0, \"ticks\": \"\"}}, \"type\": \"scattergeo\"}], \"scattergl\": [{\"marker\": {\"colorbar\": {\"outlinewidth\": 0, \"ticks\": \"\"}}, \"type\": \"scattergl\"}], \"scattermapbox\": [{\"marker\": {\"colorbar\": {\"outlinewidth\": 0, \"ticks\": \"\"}}, \"type\": \"scattermapbox\"}], \"scatterpolar\": [{\"marker\": {\"colorbar\": {\"outlinewidth\": 0, \"ticks\": \"\"}}, \"type\": \"scatterpolar\"}], \"scatterpolargl\": [{\"marker\": {\"colorbar\": {\"outlinewidth\": 0, \"ticks\": \"\"}}, \"type\": \"scatterpolargl\"}], \"scatterternary\": [{\"marker\": {\"colorbar\": {\"outlinewidth\": 0, \"ticks\": \"\"}}, \"type\": \"scatterternary\"}], \"surface\": [{\"colorbar\": {\"outlinewidth\": 0, \"ticks\": \"\"}, \"colorscale\": [[0.0, \"#0d0887\"], [0.1111111111111111, \"#46039f\"], [0.2222222222222222, \"#7201a8\"], [0.3333333333333333, \"#9c179e\"], [0.4444444444444444, \"#bd3786\"], [0.5555555555555556, \"#d8576b\"], [0.6666666666666666, \"#ed7953\"], [0.7777777777777778, \"#fb9f3a\"], [0.8888888888888888, \"#fdca26\"], [1.0, \"#f0f921\"]], \"type\": \"surface\"}], \"table\": [{\"cells\": {\"fill\": {\"color\": \"#EBF0F8\"}, \"line\": {\"color\": \"white\"}}, \"header\": {\"fill\": {\"color\": \"#C8D4E3\"}, \"line\": {\"color\": \"white\"}}, \"type\": \"table\"}]}, \"layout\": {\"annotationdefaults\": {\"arrowcolor\": \"#2a3f5f\", \"arrowhead\": 0, \"arrowwidth\": 1}, \"coloraxis\": {\"colorbar\": {\"outlinewidth\": 0, \"ticks\": \"\"}}, \"colorscale\": {\"diverging\": [[0, \"#8e0152\"], [0.1, \"#c51b7d\"], [0.2, \"#de77ae\"], [0.3, \"#f1b6da\"], [0.4, \"#fde0ef\"], [0.5, \"#f7f7f7\"], [0.6, \"#e6f5d0\"], [0.7, \"#b8e186\"], [0.8, \"#7fbc41\"], [0.9, \"#4d9221\"], [1, \"#276419\"]], \"sequential\": [[0.0, \"#0d0887\"], [0.1111111111111111, \"#46039f\"], [0.2222222222222222, \"#7201a8\"], [0.3333333333333333, \"#9c179e\"], [0.4444444444444444, \"#bd3786\"], [0.5555555555555556, \"#d8576b\"], [0.6666666666666666, \"#ed7953\"], [0.7777777777777778, \"#fb9f3a\"], [0.8888888888888888, \"#fdca26\"], [1.0, \"#f0f921\"]], \"sequentialminus\": [[0.0, \"#0d0887\"], [0.1111111111111111, \"#46039f\"], [0.2222222222222222, \"#7201a8\"], [0.3333333333333333, \"#9c179e\"], [0.4444444444444444, \"#bd3786\"], [0.5555555555555556, \"#d8576b\"], [0.6666666666666666, \"#ed7953\"], [0.7777777777777778, \"#fb9f3a\"], [0.8888888888888888, \"#fdca26\"], [1.0, \"#f0f921\"]]}, \"colorway\": [\"#636efa\", \"#EF553B\", \"#00cc96\", \"#ab63fa\", \"#FFA15A\", \"#19d3f3\", \"#FF6692\", \"#B6E880\", \"#FF97FF\", \"#FECB52\"], \"font\": {\"color\": \"#2a3f5f\"}, \"geo\": {\"bgcolor\": \"white\", \"lakecolor\": \"white\", \"landcolor\": \"#E5ECF6\", \"showlakes\": true, \"showland\": true, \"subunitcolor\": \"white\"}, \"hoverlabel\": {\"align\": \"left\"}, \"hovermode\": \"closest\", \"mapbox\": {\"style\": \"light\"}, \"paper_bgcolor\": \"white\", \"plot_bgcolor\": \"#E5ECF6\", \"polar\": {\"angularaxis\": {\"gridcolor\": \"white\", \"linecolor\": \"white\", \"ticks\": \"\"}, \"bgcolor\": \"#E5ECF6\", \"radialaxis\": {\"gridcolor\": \"white\", \"linecolor\": \"white\", \"ticks\": \"\"}}, \"scene\": {\"xaxis\": {\"backgroundcolor\": \"#E5ECF6\", \"gridcolor\": \"white\", \"gridwidth\": 2, \"linecolor\": \"white\", \"showbackground\": true, \"ticks\": \"\", \"zerolinecolor\": \"white\"}, \"yaxis\": {\"backgroundcolor\": \"#E5ECF6\", \"gridcolor\": \"white\", \"gridwidth\": 2, \"linecolor\": \"white\", \"showbackground\": true, \"ticks\": \"\", \"zerolinecolor\": \"white\"}, \"zaxis\": {\"backgroundcolor\": \"#E5ECF6\", \"gridcolor\": \"white\", \"gridwidth\": 2, \"linecolor\": \"white\", \"showbackground\": true, \"ticks\": \"\", \"zerolinecolor\": \"white\"}}, \"shapedefaults\": {\"line\": {\"color\": \"#2a3f5f\"}}, \"ternary\": {\"aaxis\": {\"gridcolor\": \"white\", \"linecolor\": \"white\", \"ticks\": \"\"}, \"baxis\": {\"gridcolor\": \"white\", \"linecolor\": \"white\", \"ticks\": \"\"}, \"bgcolor\": \"#E5ECF6\", \"caxis\": {\"gridcolor\": \"white\", \"linecolor\": \"white\", \"ticks\": \"\"}}, \"title\": {\"x\": 0.05}, \"xaxis\": {\"automargin\": true, \"gridcolor\": \"white\", \"linecolor\": \"white\", \"ticks\": \"\", \"title\": {\"standoff\": 15}, \"zerolinecolor\": \"white\", \"zerolinewidth\": 2}, \"yaxis\": {\"automargin\": true, \"gridcolor\": \"white\", \"linecolor\": \"white\", \"ticks\": \"\", \"title\": {\"standoff\": 15}, \"zerolinecolor\": \"white\", \"zerolinewidth\": 2}}}, \"title\": {\"text\": \" Top 10 Hottest place by country \"}},\n",
              "                        {\"responsive\": true}\n",
              "                    ).then(function(){\n",
              "                            \n",
              "var gd = document.getElementById('93c52380-5e5b-4874-a887-d5fcab43a601');\n",
              "var x = new MutationObserver(function (mutations, observer) {{\n",
              "        var display = window.getComputedStyle(gd).display;\n",
              "        if (!display || display === 'none') {{\n",
              "            console.log([gd, 'removed!']);\n",
              "            Plotly.purge(gd);\n",
              "            observer.disconnect();\n",
              "        }}\n",
              "}});\n",
              "\n",
              "// Listen for the removal of the full notebook cells\n",
              "var notebookContainer = gd.closest('#notebook-container');\n",
              "if (notebookContainer) {{\n",
              "    x.observe(notebookContainer, {childList: true});\n",
              "}}\n",
              "\n",
              "// Listen for the clearing of the current output cell\n",
              "var outputEl = gd.closest('.output');\n",
              "if (outputEl) {{\n",
              "    x.observe(outputEl, {childList: true});\n",
              "}}\n",
              "\n",
              "                        })\n",
              "                };\n",
              "                \n",
              "            </script>\n",
              "        </div>\n",
              "</body>\n",
              "</html>"
            ]
          },
          "metadata": {
            "tags": []
          }
        }
      ]
    },
    {
      "cell_type": "markdown",
      "metadata": {
        "id": "oa-F4olWbZsn"
      },
      "source": [
        "**5. Maximum temperature across each country, month in the year 2020**"
      ]
    },
    {
      "cell_type": "code",
      "metadata": {
        "id": "PlRXNWA-Q-ZD"
      },
      "source": [
        "t3 =  fidap.sql(\"\"\" \n",
        "    select  country, EXTRACT(MONTH from date) as month, max(max_temperature_air_2m_f) as max_tem \n",
        "    from bigquery-public-data.covid19_weathersource_com.postal_code_day_history\n",
        "    where (SELECT EXTRACT(YEAR from date)) = 2020\n",
        "    group by country, month\n",
        "\n",
        "\"\"\")"
      ],
      "execution_count": null,
      "outputs": []
    },
    {
      "cell_type": "code",
      "metadata": {
        "colab": {
          "base_uri": "https://localhost:8080/",
          "height": 542
        },
        "id": "ia3WraqlQ-S0",
        "outputId": "a53f1410-227a-4bf4-dbdc-2d6a81eb43a7"
      },
      "source": [
        "data = t3[['country','month','max_tem']].groupby(['country','month']).mean().reset_index()\n",
        "px.choropleth(data_frame=data,locations=\"country\",locationmode='country names',animation_frame=\"month\",\n",
        "              color=\"max_tem\",color_continuous_scale = \"peach\",title=\" countrywise average temperature over the months\")"
      ],
      "execution_count": 105,
      "outputs": [
        {
          "output_type": "display_data",
          "data": {
            "text/html": [
              "<html>\n",
              "<head><meta charset=\"utf-8\" /></head>\n",
              "<body>\n",
              "    <div>\n",
              "            <script src=\"https://cdnjs.cloudflare.com/ajax/libs/mathjax/2.7.5/MathJax.js?config=TeX-AMS-MML_SVG\"></script><script type=\"text/javascript\">if (window.MathJax) {MathJax.Hub.Config({SVG: {font: \"STIX-Web\"}});}</script>\n",
              "                <script type=\"text/javascript\">window.PlotlyConfig = {MathJaxConfig: 'local'};</script>\n",
              "        <script src=\"https://cdn.plot.ly/plotly-latest.min.js\"></script>    \n",
              "            <div id=\"e8ca76a6-979b-4982-ab2d-94767f9ecbcd\" class=\"plotly-graph-div\" style=\"height:525px; width:100%;\"></div>\n",
              "            <script type=\"text/javascript\">\n",
              "                \n",
              "                    window.PLOTLYENV=window.PLOTLYENV || {};\n",
              "                    \n",
              "                if (document.getElementById(\"e8ca76a6-979b-4982-ab2d-94767f9ecbcd\")) {\n",
              "                    Plotly.newPlot(\n",
              "                        'e8ca76a6-979b-4982-ab2d-94767f9ecbcd',\n",
              "                        [{\"coloraxis\": \"coloraxis\", \"geo\": \"geo\", \"hoverlabel\": {\"namelength\": 0}, \"hovertemplate\": \"month=1<br>country=%{location}<br>max_tem=%{z}\", \"locationmode\": \"country names\", \"locations\": [\"AD\", \"AF\", \"AG\", \"AI\", \"AL\", \"AM\", \"AR\", \"AT\", \"AU\", \"AW\", \"AX\", \"AZ\", \"BA\", \"BB\", \"BD\", \"BE\", \"BG\", \"BH\", \"BL\", \"BM\", \"BN\", \"BO\", \"BQ\", \"BR\", \"BT\", \"BY\", \"CA\", \"CC\", \"CH\", \"CL\", \"CN\", \"CO\", \"CR\", \"CU\", \"CV\", \"CW\", \"CX\", \"CY\", \"CZ\", \"DE\", \"DK\", \"DO\", \"DZ\", \"EC\", \"EE\", \"EG\", \"ES\", \"ET\", \"FI\", \"FK\", \"FM\", \"FO\", \"FR\", \"GB\", \"GF\", \"GG\", \"GI\", \"GL\", \"GN\", \"GP\", \"GR\", \"GS\", \"GT\", \"GW\", \"HK\", \"HM\", \"HN\", \"HR\", \"HT\", \"HU\", \"ID\", \"IE\", \"IL\", \"IM\", \"IN\", \"IO\", \"IQ\", \"IR\", \"IS\", \"IT\", \"JE\", \"JM\", \"JO\", \"JP\", \"KE\", \"KH\", \"KR\", \"KW\", \"KY\", \"KZ\", \"LA\", \"LB\", \"LI\", \"LK\", \"LT\", \"LU\", \"LV\", \"MA\", \"MC\", \"MD\", \"ME\", \"MF\", \"MG\", \"MH\", \"MK\", \"MM\", \"MN\", \"MO\", \"MQ\", \"MS\", \"MT\", \"MU\", \"MV\", \"MW\", \"MX\", \"MY\", \"MZ\", \"NA\", \"NC\", \"NE\", \"NF\", \"NG\", \"NI\", \"NL\", \"NO\", \"NP\", \"NZ\", \"OM\", \"PA\", \"PE\", \"PF\", \"PG\", \"PH\", \"PK\", \"PL\", \"PM\", \"PS\", \"PT\", \"PW\", \"PY\", \"RE\", \"RO\", \"RS\", \"RU\", \"SA\", \"SD\", \"SE\", \"SG\", \"SH\", \"SI\", \"SJ\", \"SK\", \"SM\", \"SN\", \"SS\", \"SV\", \"SX\", \"SZ\", \"TC\", \"TF\", \"TH\", \"TJ\", \"TM\", \"TN\", \"TR\", \"TT\", \"TW\", \"UA\", \"US\", \"UY\", \"VE\", \"VN\", \"WF\", \"XK\", \"YT\", \"ZA\", \"ZM\"], \"name\": \"\", \"type\": \"choropleth\", \"z\": [47.4, 69.2, 81.8, 81.1, 60.8, 49.9, 110.9, 53.2, 122.6, 82.1, 46.3, 60.8, 59.4, 81.8, 87.6, 54.3, 60.4, 78.2, 81.4, 73.3, 93.9, 71.8, 81.8, 112.4, 72.1, 44.3, 67.5, 83.4, 56.0, 107.6, 90.9, 115.8, 101.6, 92.9, 82.3, 82.1, 85.2, 64.6, 54.5, 55.5, 52.4, 91.3, 93.0, 101.9, 47.7, 80.3, 76.5, 102.8, 46.3, 67.7, 84.7, 52.0, 95.4, 85.1, 95.3, 55.9, 65.1, 32.5, 106.2, 89.0, 64.6, 37.1, 107.6, 107.5, 74.1, 43.5, 103.3, 61.6, 93.1, 57.8, 103.6, 55.9, 80.6, 53.7, 105.5, 84.8, 87.2, 79.1, 49.3, 65.4, 67.0, 92.0, 78.1, 76.2, 102.4, 106.9, 66.3, 72.7, 85.1, 52.7, 104.0, 67.0, 49.1, 100.9, 45.8, 52.4, 47.5, 87.9, 58.2, 47.2, 57.6, 81.2, 106.6, 84.9, 54.8, 101.6, 58.7, 74.5, 82.1, 82.1, 61.7, 87.1, 84.9, 103.8, 101.9, 102.2, 109.7, 103.3, 92.2, 107.9, 75.6, 111.9, 98.9, 82.1, 54.5, 81.4, 97.9, 88.1, 85.5, 109.2, 84.0, 106.4, 103.3, 87.4, 52.9, 41.9, 75.8, 67.5, 83.8, 112.3, 84.4, 53.7, 60.7, 54.2, 85.9, 109.4, 51.0, 97.7, 80.5, 55.2, 39.4, 51.9, 58.5, 113.6, 105.6, 100.9, 81.3, 102.3, 80.3, 47.6, 108.0, 52.5, 66.5, 73.7, 63.3, 90.5, 85.3, 65.0, 110.0, 103.7, 105.1, 99.9, 85.4, 59.3, 86.0, 111.8, 94.1]}],\n",
              "                        {\"coloraxis\": {\"colorbar\": {\"title\": {\"text\": \"max_tem\"}}, \"colorscale\": [[0.0, \"rgb(253, 224, 197)\"], [0.16666666666666666, \"rgb(250, 203, 166)\"], [0.3333333333333333, \"rgb(248, 181, 139)\"], [0.5, \"rgb(245, 158, 114)\"], [0.6666666666666666, \"rgb(242, 133, 93)\"], [0.8333333333333334, \"rgb(239, 106, 76)\"], [1.0, \"rgb(235, 74, 64)\"]]}, \"geo\": {\"center\": {}, \"domain\": {\"x\": [0.0, 1.0], \"y\": [0.0, 1.0]}}, \"legend\": {\"tracegroupgap\": 0}, \"sliders\": [{\"active\": 0, \"currentvalue\": {\"prefix\": \"month=\"}, \"len\": 0.9, \"pad\": {\"b\": 10, \"t\": 60}, \"steps\": [{\"args\": [[\"1\"], {\"frame\": {\"duration\": 0, \"redraw\": true}, \"fromcurrent\": true, \"mode\": \"immediate\", \"transition\": {\"duration\": 0, \"easing\": \"linear\"}}], \"label\": \"1\", \"method\": \"animate\"}, {\"args\": [[\"2\"], {\"frame\": {\"duration\": 0, \"redraw\": true}, \"fromcurrent\": true, \"mode\": \"immediate\", \"transition\": {\"duration\": 0, \"easing\": \"linear\"}}], \"label\": \"2\", \"method\": \"animate\"}, {\"args\": [[\"3\"], {\"frame\": {\"duration\": 0, \"redraw\": true}, \"fromcurrent\": true, \"mode\": \"immediate\", \"transition\": {\"duration\": 0, \"easing\": \"linear\"}}], \"label\": \"3\", \"method\": \"animate\"}, {\"args\": [[\"4\"], {\"frame\": {\"duration\": 0, \"redraw\": true}, \"fromcurrent\": true, \"mode\": \"immediate\", \"transition\": {\"duration\": 0, \"easing\": \"linear\"}}], \"label\": \"4\", \"method\": \"animate\"}, {\"args\": [[\"5\"], {\"frame\": {\"duration\": 0, \"redraw\": true}, \"fromcurrent\": true, \"mode\": \"immediate\", \"transition\": {\"duration\": 0, \"easing\": \"linear\"}}], \"label\": \"5\", \"method\": \"animate\"}, {\"args\": [[\"6\"], {\"frame\": {\"duration\": 0, \"redraw\": true}, \"fromcurrent\": true, \"mode\": \"immediate\", \"transition\": {\"duration\": 0, \"easing\": \"linear\"}}], \"label\": \"6\", \"method\": \"animate\"}, {\"args\": [[\"7\"], {\"frame\": {\"duration\": 0, \"redraw\": true}, \"fromcurrent\": true, \"mode\": \"immediate\", \"transition\": {\"duration\": 0, \"easing\": \"linear\"}}], \"label\": \"7\", \"method\": \"animate\"}, {\"args\": [[\"8\"], {\"frame\": {\"duration\": 0, \"redraw\": true}, \"fromcurrent\": true, \"mode\": \"immediate\", \"transition\": {\"duration\": 0, \"easing\": \"linear\"}}], \"label\": \"8\", \"method\": \"animate\"}, {\"args\": [[\"9\"], {\"frame\": {\"duration\": 0, \"redraw\": true}, \"fromcurrent\": true, \"mode\": \"immediate\", \"transition\": {\"duration\": 0, \"easing\": \"linear\"}}], \"label\": \"9\", \"method\": \"animate\"}, {\"args\": [[\"10\"], {\"frame\": {\"duration\": 0, \"redraw\": true}, \"fromcurrent\": true, \"mode\": \"immediate\", \"transition\": {\"duration\": 0, \"easing\": \"linear\"}}], \"label\": \"10\", \"method\": \"animate\"}, {\"args\": [[\"11\"], {\"frame\": {\"duration\": 0, \"redraw\": true}, \"fromcurrent\": true, \"mode\": \"immediate\", \"transition\": {\"duration\": 0, \"easing\": \"linear\"}}], \"label\": \"11\", \"method\": \"animate\"}, {\"args\": [[\"12\"], {\"frame\": {\"duration\": 0, \"redraw\": true}, \"fromcurrent\": true, \"mode\": \"immediate\", \"transition\": {\"duration\": 0, \"easing\": \"linear\"}}], \"label\": \"12\", \"method\": \"animate\"}], \"x\": 0.1, \"xanchor\": \"left\", \"y\": 0, \"yanchor\": \"top\"}], \"template\": {\"data\": {\"bar\": [{\"error_x\": {\"color\": \"#2a3f5f\"}, \"error_y\": {\"color\": \"#2a3f5f\"}, \"marker\": {\"line\": {\"color\": \"#E5ECF6\", \"width\": 0.5}}, \"type\": \"bar\"}], \"barpolar\": [{\"marker\": {\"line\": {\"color\": \"#E5ECF6\", \"width\": 0.5}}, \"type\": \"barpolar\"}], \"carpet\": [{\"aaxis\": {\"endlinecolor\": \"#2a3f5f\", \"gridcolor\": \"white\", \"linecolor\": \"white\", \"minorgridcolor\": \"white\", \"startlinecolor\": \"#2a3f5f\"}, \"baxis\": {\"endlinecolor\": \"#2a3f5f\", \"gridcolor\": \"white\", \"linecolor\": \"white\", \"minorgridcolor\": \"white\", \"startlinecolor\": \"#2a3f5f\"}, \"type\": \"carpet\"}], \"choropleth\": [{\"colorbar\": {\"outlinewidth\": 0, \"ticks\": \"\"}, \"type\": \"choropleth\"}], \"contour\": [{\"colorbar\": {\"outlinewidth\": 0, \"ticks\": \"\"}, \"colorscale\": [[0.0, \"#0d0887\"], [0.1111111111111111, \"#46039f\"], [0.2222222222222222, \"#7201a8\"], [0.3333333333333333, \"#9c179e\"], [0.4444444444444444, \"#bd3786\"], [0.5555555555555556, \"#d8576b\"], [0.6666666666666666, \"#ed7953\"], [0.7777777777777778, \"#fb9f3a\"], [0.8888888888888888, \"#fdca26\"], [1.0, \"#f0f921\"]], \"type\": \"contour\"}], \"contourcarpet\": [{\"colorbar\": {\"outlinewidth\": 0, \"ticks\": \"\"}, \"type\": \"contourcarpet\"}], \"heatmap\": [{\"colorbar\": {\"outlinewidth\": 0, \"ticks\": \"\"}, \"colorscale\": [[0.0, \"#0d0887\"], [0.1111111111111111, \"#46039f\"], [0.2222222222222222, \"#7201a8\"], [0.3333333333333333, \"#9c179e\"], [0.4444444444444444, \"#bd3786\"], [0.5555555555555556, \"#d8576b\"], [0.6666666666666666, \"#ed7953\"], [0.7777777777777778, \"#fb9f3a\"], [0.8888888888888888, \"#fdca26\"], [1.0, \"#f0f921\"]], \"type\": \"heatmap\"}], \"heatmapgl\": [{\"colorbar\": {\"outlinewidth\": 0, \"ticks\": \"\"}, \"colorscale\": [[0.0, \"#0d0887\"], [0.1111111111111111, \"#46039f\"], [0.2222222222222222, \"#7201a8\"], [0.3333333333333333, \"#9c179e\"], [0.4444444444444444, \"#bd3786\"], [0.5555555555555556, \"#d8576b\"], [0.6666666666666666, \"#ed7953\"], [0.7777777777777778, \"#fb9f3a\"], [0.8888888888888888, \"#fdca26\"], [1.0, \"#f0f921\"]], \"type\": \"heatmapgl\"}], \"histogram\": [{\"marker\": {\"colorbar\": {\"outlinewidth\": 0, \"ticks\": \"\"}}, \"type\": \"histogram\"}], \"histogram2d\": [{\"colorbar\": {\"outlinewidth\": 0, \"ticks\": \"\"}, \"colorscale\": [[0.0, \"#0d0887\"], [0.1111111111111111, \"#46039f\"], [0.2222222222222222, \"#7201a8\"], [0.3333333333333333, \"#9c179e\"], [0.4444444444444444, \"#bd3786\"], [0.5555555555555556, \"#d8576b\"], [0.6666666666666666, \"#ed7953\"], [0.7777777777777778, \"#fb9f3a\"], [0.8888888888888888, \"#fdca26\"], [1.0, \"#f0f921\"]], \"type\": \"histogram2d\"}], \"histogram2dcontour\": [{\"colorbar\": {\"outlinewidth\": 0, \"ticks\": \"\"}, \"colorscale\": [[0.0, \"#0d0887\"], [0.1111111111111111, \"#46039f\"], [0.2222222222222222, \"#7201a8\"], [0.3333333333333333, \"#9c179e\"], [0.4444444444444444, \"#bd3786\"], [0.5555555555555556, \"#d8576b\"], [0.6666666666666666, \"#ed7953\"], [0.7777777777777778, \"#fb9f3a\"], [0.8888888888888888, \"#fdca26\"], [1.0, \"#f0f921\"]], \"type\": \"histogram2dcontour\"}], \"mesh3d\": [{\"colorbar\": {\"outlinewidth\": 0, \"ticks\": \"\"}, \"type\": \"mesh3d\"}], \"parcoords\": [{\"line\": {\"colorbar\": {\"outlinewidth\": 0, \"ticks\": \"\"}}, \"type\": \"parcoords\"}], \"pie\": [{\"automargin\": true, \"type\": \"pie\"}], \"scatter\": [{\"marker\": {\"colorbar\": {\"outlinewidth\": 0, \"ticks\": \"\"}}, \"type\": \"scatter\"}], \"scatter3d\": [{\"line\": {\"colorbar\": {\"outlinewidth\": 0, \"ticks\": \"\"}}, \"marker\": {\"colorbar\": {\"outlinewidth\": 0, \"ticks\": \"\"}}, \"type\": \"scatter3d\"}], \"scattercarpet\": [{\"marker\": {\"colorbar\": {\"outlinewidth\": 0, \"ticks\": \"\"}}, \"type\": \"scattercarpet\"}], \"scattergeo\": [{\"marker\": {\"colorbar\": {\"outlinewidth\": 0, \"ticks\": \"\"}}, \"type\": \"scattergeo\"}], \"scattergl\": [{\"marker\": {\"colorbar\": {\"outlinewidth\": 0, \"ticks\": \"\"}}, \"type\": \"scattergl\"}], \"scattermapbox\": [{\"marker\": {\"colorbar\": {\"outlinewidth\": 0, \"ticks\": \"\"}}, \"type\": \"scattermapbox\"}], \"scatterpolar\": [{\"marker\": {\"colorbar\": {\"outlinewidth\": 0, \"ticks\": \"\"}}, \"type\": \"scatterpolar\"}], \"scatterpolargl\": [{\"marker\": {\"colorbar\": {\"outlinewidth\": 0, \"ticks\": \"\"}}, \"type\": \"scatterpolargl\"}], \"scatterternary\": [{\"marker\": {\"colorbar\": {\"outlinewidth\": 0, \"ticks\": \"\"}}, \"type\": \"scatterternary\"}], \"surface\": [{\"colorbar\": {\"outlinewidth\": 0, \"ticks\": \"\"}, \"colorscale\": [[0.0, \"#0d0887\"], [0.1111111111111111, \"#46039f\"], [0.2222222222222222, \"#7201a8\"], [0.3333333333333333, \"#9c179e\"], [0.4444444444444444, \"#bd3786\"], [0.5555555555555556, \"#d8576b\"], [0.6666666666666666, \"#ed7953\"], [0.7777777777777778, \"#fb9f3a\"], [0.8888888888888888, \"#fdca26\"], [1.0, \"#f0f921\"]], \"type\": \"surface\"}], \"table\": [{\"cells\": {\"fill\": {\"color\": \"#EBF0F8\"}, \"line\": {\"color\": \"white\"}}, \"header\": {\"fill\": {\"color\": \"#C8D4E3\"}, \"line\": {\"color\": \"white\"}}, \"type\": \"table\"}]}, \"layout\": {\"annotationdefaults\": {\"arrowcolor\": \"#2a3f5f\", \"arrowhead\": 0, \"arrowwidth\": 1}, \"coloraxis\": {\"colorbar\": {\"outlinewidth\": 0, \"ticks\": \"\"}}, \"colorscale\": {\"diverging\": [[0, \"#8e0152\"], [0.1, \"#c51b7d\"], [0.2, \"#de77ae\"], [0.3, \"#f1b6da\"], [0.4, \"#fde0ef\"], [0.5, \"#f7f7f7\"], [0.6, \"#e6f5d0\"], [0.7, \"#b8e186\"], [0.8, \"#7fbc41\"], [0.9, \"#4d9221\"], [1, \"#276419\"]], \"sequential\": [[0.0, \"#0d0887\"], [0.1111111111111111, \"#46039f\"], [0.2222222222222222, \"#7201a8\"], [0.3333333333333333, \"#9c179e\"], [0.4444444444444444, \"#bd3786\"], [0.5555555555555556, \"#d8576b\"], [0.6666666666666666, \"#ed7953\"], [0.7777777777777778, \"#fb9f3a\"], [0.8888888888888888, \"#fdca26\"], [1.0, \"#f0f921\"]], \"sequentialminus\": [[0.0, \"#0d0887\"], [0.1111111111111111, \"#46039f\"], [0.2222222222222222, \"#7201a8\"], [0.3333333333333333, \"#9c179e\"], [0.4444444444444444, \"#bd3786\"], [0.5555555555555556, \"#d8576b\"], [0.6666666666666666, \"#ed7953\"], [0.7777777777777778, \"#fb9f3a\"], [0.8888888888888888, \"#fdca26\"], [1.0, \"#f0f921\"]]}, \"colorway\": [\"#636efa\", \"#EF553B\", \"#00cc96\", \"#ab63fa\", \"#FFA15A\", \"#19d3f3\", \"#FF6692\", \"#B6E880\", \"#FF97FF\", \"#FECB52\"], \"font\": {\"color\": \"#2a3f5f\"}, \"geo\": {\"bgcolor\": \"white\", \"lakecolor\": \"white\", \"landcolor\": \"#E5ECF6\", \"showlakes\": true, \"showland\": true, \"subunitcolor\": \"white\"}, \"hoverlabel\": {\"align\": \"left\"}, \"hovermode\": \"closest\", \"mapbox\": {\"style\": \"light\"}, \"paper_bgcolor\": \"white\", \"plot_bgcolor\": \"#E5ECF6\", \"polar\": {\"angularaxis\": {\"gridcolor\": \"white\", \"linecolor\": \"white\", \"ticks\": \"\"}, \"bgcolor\": \"#E5ECF6\", \"radialaxis\": {\"gridcolor\": \"white\", \"linecolor\": \"white\", \"ticks\": \"\"}}, \"scene\": {\"xaxis\": {\"backgroundcolor\": \"#E5ECF6\", \"gridcolor\": \"white\", \"gridwidth\": 2, \"linecolor\": \"white\", \"showbackground\": true, \"ticks\": \"\", \"zerolinecolor\": \"white\"}, \"yaxis\": {\"backgroundcolor\": \"#E5ECF6\", \"gridcolor\": \"white\", \"gridwidth\": 2, \"linecolor\": \"white\", \"showbackground\": true, \"ticks\": \"\", \"zerolinecolor\": \"white\"}, \"zaxis\": {\"backgroundcolor\": \"#E5ECF6\", \"gridcolor\": \"white\", \"gridwidth\": 2, \"linecolor\": \"white\", \"showbackground\": true, \"ticks\": \"\", \"zerolinecolor\": \"white\"}}, \"shapedefaults\": {\"line\": {\"color\": \"#2a3f5f\"}}, \"ternary\": {\"aaxis\": {\"gridcolor\": \"white\", \"linecolor\": \"white\", \"ticks\": \"\"}, \"baxis\": {\"gridcolor\": \"white\", \"linecolor\": \"white\", \"ticks\": \"\"}, \"bgcolor\": \"#E5ECF6\", \"caxis\": {\"gridcolor\": \"white\", \"linecolor\": \"white\", \"ticks\": \"\"}}, \"title\": {\"x\": 0.05}, \"xaxis\": {\"automargin\": true, \"gridcolor\": \"white\", \"linecolor\": \"white\", \"ticks\": \"\", \"title\": {\"standoff\": 15}, \"zerolinecolor\": \"white\", \"zerolinewidth\": 2}, \"yaxis\": {\"automargin\": true, \"gridcolor\": \"white\", \"linecolor\": \"white\", \"ticks\": \"\", \"title\": {\"standoff\": 15}, \"zerolinecolor\": \"white\", \"zerolinewidth\": 2}}}, \"title\": {\"text\": \" countrywise average temperature over the months\"}, \"updatemenus\": [{\"buttons\": [{\"args\": [null, {\"frame\": {\"duration\": 500, \"redraw\": true}, \"fromcurrent\": true, \"mode\": \"immediate\", \"transition\": {\"duration\": 500, \"easing\": \"linear\"}}], \"label\": \"&#9654;\", \"method\": \"animate\"}, {\"args\": [[null], {\"frame\": {\"duration\": 0, \"redraw\": true}, \"fromcurrent\": true, \"mode\": \"immediate\", \"transition\": {\"duration\": 0, \"easing\": \"linear\"}}], \"label\": \"&#9724;\", \"method\": \"animate\"}], \"direction\": \"left\", \"pad\": {\"r\": 10, \"t\": 70}, \"showactive\": false, \"type\": \"buttons\", \"x\": 0.1, \"xanchor\": \"right\", \"y\": 0, \"yanchor\": \"top\"}]},\n",
              "                        {\"responsive\": true}\n",
              "                    ).then(function(){\n",
              "                            Plotly.addFrames('e8ca76a6-979b-4982-ab2d-94767f9ecbcd', [{\"data\": [{\"coloraxis\": \"coloraxis\", \"geo\": \"geo\", \"hoverlabel\": {\"namelength\": 0}, \"hovertemplate\": \"month=1<br>country=%{location}<br>max_tem=%{z}\", \"locationmode\": \"country names\", \"locations\": [\"AD\", \"AF\", \"AG\", \"AI\", \"AL\", \"AM\", \"AR\", \"AT\", \"AU\", \"AW\", \"AX\", \"AZ\", \"BA\", \"BB\", \"BD\", \"BE\", \"BG\", \"BH\", \"BL\", \"BM\", \"BN\", \"BO\", \"BQ\", \"BR\", \"BT\", \"BY\", \"CA\", \"CC\", \"CH\", \"CL\", \"CN\", \"CO\", \"CR\", \"CU\", \"CV\", \"CW\", \"CX\", \"CY\", \"CZ\", \"DE\", \"DK\", \"DO\", \"DZ\", \"EC\", \"EE\", \"EG\", \"ES\", \"ET\", \"FI\", \"FK\", \"FM\", \"FO\", \"FR\", \"GB\", \"GF\", \"GG\", \"GI\", \"GL\", \"GN\", \"GP\", \"GR\", \"GS\", \"GT\", \"GW\", \"HK\", \"HM\", \"HN\", \"HR\", \"HT\", \"HU\", \"ID\", \"IE\", \"IL\", \"IM\", \"IN\", \"IO\", \"IQ\", \"IR\", \"IS\", \"IT\", \"JE\", \"JM\", \"JO\", \"JP\", \"KE\", \"KH\", \"KR\", \"KW\", \"KY\", \"KZ\", \"LA\", \"LB\", \"LI\", \"LK\", \"LT\", \"LU\", \"LV\", \"MA\", \"MC\", \"MD\", \"ME\", \"MF\", \"MG\", \"MH\", \"MK\", \"MM\", \"MN\", \"MO\", \"MQ\", \"MS\", \"MT\", \"MU\", \"MV\", \"MW\", \"MX\", \"MY\", \"MZ\", \"NA\", \"NC\", \"NE\", \"NF\", \"NG\", \"NI\", \"NL\", \"NO\", \"NP\", \"NZ\", \"OM\", \"PA\", \"PE\", \"PF\", \"PG\", \"PH\", \"PK\", \"PL\", \"PM\", \"PS\", \"PT\", \"PW\", \"PY\", \"RE\", \"RO\", \"RS\", \"RU\", \"SA\", \"SD\", \"SE\", \"SG\", \"SH\", \"SI\", \"SJ\", \"SK\", \"SM\", \"SN\", \"SS\", \"SV\", \"SX\", \"SZ\", \"TC\", \"TF\", \"TH\", \"TJ\", \"TM\", \"TN\", \"TR\", \"TT\", \"TW\", \"UA\", \"US\", \"UY\", \"VE\", \"VN\", \"WF\", \"XK\", \"YT\", \"ZA\", \"ZM\"], \"name\": \"\", \"z\": [47.4, 69.2, 81.8, 81.1, 60.8, 49.9, 110.9, 53.2, 122.6, 82.1, 46.3, 60.8, 59.4, 81.8, 87.6, 54.3, 60.4, 78.2, 81.4, 73.3, 93.9, 71.8, 81.8, 112.4, 72.1, 44.3, 67.5, 83.4, 56.0, 107.6, 90.9, 115.8, 101.6, 92.9, 82.3, 82.1, 85.2, 64.6, 54.5, 55.5, 52.4, 91.3, 93.0, 101.9, 47.7, 80.3, 76.5, 102.8, 46.3, 67.7, 84.7, 52.0, 95.4, 85.1, 95.3, 55.9, 65.1, 32.5, 106.2, 89.0, 64.6, 37.1, 107.6, 107.5, 74.1, 43.5, 103.3, 61.6, 93.1, 57.8, 103.6, 55.9, 80.6, 53.7, 105.5, 84.8, 87.2, 79.1, 49.3, 65.4, 67.0, 92.0, 78.1, 76.2, 102.4, 106.9, 66.3, 72.7, 85.1, 52.7, 104.0, 67.0, 49.1, 100.9, 45.8, 52.4, 47.5, 87.9, 58.2, 47.2, 57.6, 81.2, 106.6, 84.9, 54.8, 101.6, 58.7, 74.5, 82.1, 82.1, 61.7, 87.1, 84.9, 103.8, 101.9, 102.2, 109.7, 103.3, 92.2, 107.9, 75.6, 111.9, 98.9, 82.1, 54.5, 81.4, 97.9, 88.1, 85.5, 109.2, 84.0, 106.4, 103.3, 87.4, 52.9, 41.9, 75.8, 67.5, 83.8, 112.3, 84.4, 53.7, 60.7, 54.2, 85.9, 109.4, 51.0, 97.7, 80.5, 55.2, 39.4, 51.9, 58.5, 113.6, 105.6, 100.9, 81.3, 102.3, 80.3, 47.6, 108.0, 52.5, 66.5, 73.7, 63.3, 90.5, 85.3, 65.0, 110.0, 103.7, 105.1, 99.9, 85.4, 59.3, 86.0, 111.8, 94.1], \"type\": \"choropleth\"}], \"name\": \"1\"}, {\"data\": [{\"coloraxis\": \"coloraxis\", \"geo\": \"geo\", \"hoverlabel\": {\"namelength\": 0}, \"hovertemplate\": \"month=2<br>country=%{location}<br>max_tem=%{z}\", \"locationmode\": \"country names\", \"locations\": [\"AD\", \"AF\", \"AG\", \"AI\", \"AL\", \"AM\", \"AR\", \"AT\", \"AU\", \"AW\", \"AX\", \"AZ\", \"BA\", \"BB\", \"BD\", \"BE\", \"BG\", \"BH\", \"BL\", \"BM\", \"BN\", \"BO\", \"BQ\", \"BR\", \"BT\", \"BY\", \"CA\", \"CC\", \"CH\", \"CL\", \"CN\", \"CO\", \"CR\", \"CU\", \"CV\", \"CW\", \"CX\", \"CY\", \"CZ\", \"DE\", \"DK\", \"DO\", \"DZ\", \"EC\", \"EE\", \"EG\", \"ES\", \"ET\", \"FI\", \"FK\", \"FM\", \"FO\", \"FR\", \"GB\", \"GF\", \"GG\", \"GI\", \"GL\", \"GN\", \"GP\", \"GR\", \"GS\", \"GT\", \"GW\", \"HK\", \"HM\", \"HN\", \"HR\", \"HT\", \"HU\", \"ID\", \"IE\", \"IL\", \"IM\", \"IN\", \"IO\", \"IQ\", \"IR\", \"IS\", \"IT\", \"JE\", \"JM\", \"JO\", \"JP\", \"KE\", \"KH\", \"KR\", \"KW\", \"KY\", \"KZ\", \"LA\", \"LB\", \"LI\", \"LK\", \"LT\", \"LU\", \"LV\", \"MA\", \"MC\", \"MD\", \"ME\", \"MF\", \"MG\", \"MH\", \"MK\", \"MM\", \"MN\", \"MO\", \"MQ\", \"MS\", \"MT\", \"MU\", \"MV\", \"MW\", \"MX\", \"MY\", \"MZ\", \"NA\", \"NC\", \"NE\", \"NF\", \"NG\", \"NI\", \"NL\", \"NO\", \"NP\", \"NZ\", \"OM\", \"PA\", \"PE\", \"PF\", \"PG\", \"PH\", \"PK\", \"PL\", \"PM\", \"PS\", \"PT\", \"PW\", \"PY\", \"RE\", \"RO\", \"RS\", \"RU\", \"SA\", \"SD\", \"SE\", \"SG\", \"SH\", \"SI\", \"SJ\", \"SK\", \"SM\", \"SN\", \"SS\", \"SV\", \"SX\", \"SZ\", \"TC\", \"TF\", \"TH\", \"TJ\", \"TM\", \"TN\", \"TR\", \"TT\", \"TW\", \"UA\", \"US\", \"UY\", \"VE\", \"VN\", \"WF\", \"XK\", \"YT\", \"ZA\", \"ZM\"], \"name\": \"\", \"z\": [58.2, 88.8, 81.2, 80.8, 66.2, 59.8, 107.8, 61.6, 118.7, 81.7, 45.0, 72.9, 67.2, 81.2, 97.3, 59.7, 71.3, 80.0, 80.9, 72.0, 96.2, 65.3, 81.4, 110.2, 80.2, 50.4, 83.2, 84.1, 66.8, 107.1, 95.6, 116.9, 105.6, 94.7, 83.1, 81.4, 85.7, 67.8, 59.3, 61.4, 51.8, 95.0, 91.5, 102.1, 48.5, 87.3, 81.0, 105.8, 45.2, 68.0, 85.0, 48.7, 96.5, 85.4, 95.6, 56.1, 68.8, 34.5, 113.0, 91.5, 71.9, 38.8, 109.0, 112.9, 74.2, 44.7, 104.1, 66.9, 95.2, 62.1, 101.8, 55.5, 78.2, 53.4, 111.4, 84.7, 91.3, 88.9, 49.0, 74.2, 62.9, 92.1, 78.7, 77.1, 104.9, 109.7, 63.9, 86.4, 85.4, 66.1, 104.9, 69.3, 54.2, 109.0, 49.6, 56.3, 50.4, 93.4, 63.8, 63.6, 61.4, 80.9, 111.6, 85.0, 64.6, 106.1, 68.6, 74.4, 81.4, 81.7, 63.7, 90.9, 85.1, 97.8, 109.7, 104.7, 105.8, 100.3, 96.6, 115.5, 77.7, 119.6, 103.4, 81.4, 48.0, 89.4, 98.7, 98.8, 85.6, 107.8, 84.7, 99.4, 104.1, 99.5, 56.7, 43.2, 74.6, 78.0, 83.7, 107.8, 82.6, 69.2, 68.2, 71.3, 91.4, 111.1, 50.4, 97.6, 81.8, 58.0, 37.9, 60.1, 67.2, 118.9, 114.1, 107.3, 80.9, 100.2, 80.8, 48.7, 111.0, 64.9, 81.1, 82.7, 69.5, 87.7, 89.8, 68.6, 104.0, 107.6, 104.9, 105.5, 85.1, 67.6, 85.8, 110.7, 89.9], \"type\": \"choropleth\"}], \"name\": \"2\"}, {\"data\": [{\"coloraxis\": \"coloraxis\", \"geo\": \"geo\", \"hoverlabel\": {\"namelength\": 0}, \"hovertemplate\": \"month=3<br>country=%{location}<br>max_tem=%{z}\", \"locationmode\": \"country names\", \"locations\": [\"AD\", \"AF\", \"AG\", \"AI\", \"AL\", \"AM\", \"AR\", \"AT\", \"AU\", \"AW\", \"AX\", \"AZ\", \"BA\", \"BB\", \"BD\", \"BE\", \"BG\", \"BH\", \"BL\", \"BM\", \"BN\", \"BO\", \"BQ\", \"BR\", \"BT\", \"BY\", \"CA\", \"CC\", \"CH\", \"CL\", \"CN\", \"CO\", \"CR\", \"CU\", \"CV\", \"CW\", \"CX\", \"CY\", \"CZ\", \"DE\", \"DK\", \"DO\", \"DZ\", \"EC\", \"EE\", \"EG\", \"ES\", \"ET\", \"FI\", \"FK\", \"FM\", \"FO\", \"FR\", \"GB\", \"GF\", \"GG\", \"GI\", \"GL\", \"GN\", \"GP\", \"GR\", \"GS\", \"GT\", \"GW\", \"HK\", \"HM\", \"HN\", \"HR\", \"HT\", \"HU\", \"ID\", \"IE\", \"IL\", \"IM\", \"IN\", \"IO\", \"IQ\", \"IR\", \"IS\", \"IT\", \"JE\", \"JM\", \"JO\", \"JP\", \"KE\", \"KH\", \"KR\", \"KW\", \"KY\", \"KZ\", \"LA\", \"LB\", \"LI\", \"LK\", \"LT\", \"LU\", \"LV\", \"MA\", \"MC\", \"MD\", \"ME\", \"MF\", \"MG\", \"MH\", \"MK\", \"MM\", \"MN\", \"MO\", \"MQ\", \"MS\", \"MT\", \"MU\", \"MV\", \"MW\", \"MX\", \"MY\", \"MZ\", \"NA\", \"NC\", \"NE\", \"NF\", \"NG\", \"NI\", \"NL\", \"NO\", \"NP\", \"NZ\", \"OM\", \"PA\", \"PE\", \"PF\", \"PG\", \"PH\", \"PK\", \"PL\", \"PM\", \"PS\", \"PT\", \"PW\", \"PY\", \"RE\", \"RO\", \"RS\", \"RU\", \"SA\", \"SD\", \"SE\", \"SG\", \"SH\", \"SI\", \"SJ\", \"SK\", \"SM\", \"SN\", \"SS\", \"SV\", \"SX\", \"SZ\", \"TC\", \"TF\", \"TH\", \"TJ\", \"TM\", \"TN\", \"TR\", \"TT\", \"TW\", \"UA\", \"US\", \"UY\", \"VE\", \"VN\", \"WF\", \"XK\", \"YT\", \"ZA\", \"ZM\"], \"name\": \"\", \"z\": [61.1, 87.9, 80.5, 80.2, 69.2, 68.6, 113.3, 68.0, 111.6, 81.5, 45.9, 77.2, 75.6, 81.1, 106.9, 62.4, 76.9, 80.4, 80.3, 71.9, 96.9, 69.0, 81.2, 114.8, 86.9, 61.1, 82.8, 84.5, 66.4, 105.7, 103.6, 116.3, 109.6, 97.1, 82.5, 81.2, 86.0, 72.3, 66.1, 68.6, 53.2, 93.4, 102.2, 99.9, 57.0, 100.3, 90.1, 113.4, 48.1, 66.4, 84.8, 47.2, 98.4, 85.2, 98.4, 53.7, 71.2, 38.2, 115.2, 90.2, 77.1, 37.7, 109.6, 115.9, 77.7, 43.5, 111.3, 75.4, 93.8, 71.0, 104.0, 57.6, 92.7, 50.5, 116.3, 85.1, 95.8, 90.5, 46.1, 80.3, 80.7, 93.5, 86.0, 78.7, 103.8, 116.4, 70.7, 91.1, 85.2, 79.1, 114.3, 82.1, 59.1, 111.0, 61.2, 61.6, 59.1, 99.7, 60.0, 72.7, 71.2, 80.2, 107.8, 84.6, 73.4, 111.9, 73.6, 77.9, 81.0, 81.1, 64.4, 86.4, 86.0, 95.7, 114.3, 106.5, 106.1, 95.0, 96.1, 122.2, 77.9, 124.8, 106.6, 81.2, 49.0, 106.3, 88.4, 103.0, 86.0, 108.7, 85.7, 99.5, 113.2, 103.9, 66.1, 42.2, 89.0, 85.9, 83.9, 111.1, 83.4, 74.5, 75.7, 75.8, 98.1, 124.4, 56.5, 100.2, 83.2, 67.6, 38.2, 67.8, 66.3, 122.1, 118.2, 111.7, 80.2, 93.4, 79.5, 48.5, 116.7, 72.9, 82.6, 88.9, 78.4, 90.7, 94.3, 77.1, 113.6, 108.1, 108.6, 112.0, 85.1, 75.7, 86.0, 107.3, 89.6], \"type\": \"choropleth\"}], \"name\": \"3\"}, {\"data\": [{\"coloraxis\": \"coloraxis\", \"geo\": \"geo\", \"hoverlabel\": {\"namelength\": 0}, \"hovertemplate\": \"month=4<br>country=%{location}<br>max_tem=%{z}\", \"locationmode\": \"country names\", \"locations\": [\"AD\", \"AF\", \"AG\", \"AI\", \"AL\", \"AM\", \"AR\", \"AT\", \"AU\", \"AW\", \"AX\", \"AZ\", \"BA\", \"BB\", \"BD\", \"BE\", \"BG\", \"BH\", \"BL\", \"BM\", \"BN\", \"BO\", \"BQ\", \"BR\", \"BT\", \"BY\", \"CA\", \"CC\", \"CH\", \"CL\", \"CN\", \"CO\", \"CR\", \"CU\", \"CV\", \"CW\", \"CX\", \"CY\", \"CZ\", \"DE\", \"DK\", \"DO\", \"DZ\", \"EC\", \"EE\", \"EG\", \"ES\", \"ET\", \"FI\", \"FK\", \"FM\", \"FO\", \"FR\", \"GB\", \"GF\", \"GG\", \"GI\", \"GL\", \"GN\", \"GP\", \"GR\", \"GS\", \"GT\", \"GW\", \"HK\", \"HM\", \"HN\", \"HR\", \"HT\", \"HU\", \"ID\", \"IE\", \"IL\", \"IM\", \"IN\", \"IO\", \"IQ\", \"IR\", \"IS\", \"IT\", \"JE\", \"JM\", \"JO\", \"JP\", \"KE\", \"KH\", \"KR\", \"KW\", \"KY\", \"KZ\", \"LA\", \"LB\", \"LI\", \"LK\", \"LT\", \"LU\", \"LV\", \"MA\", \"MC\", \"MD\", \"ME\", \"MF\", \"MG\", \"MH\", \"MK\", \"MM\", \"MN\", \"MO\", \"MQ\", \"MS\", \"MT\", \"MU\", \"MV\", \"MW\", \"MX\", \"MY\", \"MZ\", \"NA\", \"NC\", \"NE\", \"NF\", \"NG\", \"NI\", \"NL\", \"NO\", \"NP\", \"NZ\", \"OM\", \"PA\", \"PE\", \"PF\", \"PG\", \"PH\", \"PK\", \"PL\", \"PM\", \"PS\", \"PT\", \"PW\", \"PY\", \"RE\", \"RO\", \"RS\", \"RU\", \"SA\", \"SD\", \"SE\", \"SG\", \"SH\", \"SI\", \"SJ\", \"SK\", \"SM\", \"SN\", \"SS\", \"SV\", \"SX\", \"SZ\", \"TC\", \"TF\", \"TH\", \"TJ\", \"TM\", \"TN\", \"TR\", \"TT\", \"TW\", \"UA\", \"US\", \"UY\", \"VE\", \"VN\", \"WF\", \"XK\", \"YT\", \"ZA\", \"ZM\"], \"name\": \"\", \"z\": [60.6, 102.8, 85.4, 81.9, 78.9, 74.5, 99.5, 78.6, 110.2, 82.8, 48.2, 84.1, 83.9, 81.6, 120.7, 79.5, 89.0, 92.6, 81.9, 72.4, 95.9, 68.7, 82.4, 104.7, 90.1, 77.7, 90.1, 85.3, 76.0, 99.6, 105.5, 116.7, 112.8, 103.1, 82.3, 82.8, 86.6, 85.8, 75.0, 89.8, 69.9, 97.5, 113.0, 98.6, 61.2, 106.7, 81.8, 115.7, 60.3, 62.4, 85.0, 55.2, 93.9, 87.3, 93.8, 59.9, 69.5, 46.7, 117.3, 92.5, 84.1, 36.8, 112.7, 118.4, 79.8, 46.0, 111.0, 85.4, 99.0, 78.4, 104.4, 66.2, 101.4, 55.7, 124.9, 85.1, 108.1, 105.1, 50.6, 85.6, 71.1, 99.9, 94.9, 80.6, 99.0, 117.4, 77.8, 109.5, 87.3, 98.4, 114.6, 89.2, 68.6, 110.2, 68.1, 72.1, 63.9, 99.3, 64.4, 78.1, 75.5, 82.0, 104.3, 84.6, 81.2, 114.2, 90.7, 79.9, 82.8, 82.9, 66.0, 88.1, 87.1, 99.5, 118.7, 102.7, 106.1, 100.1, 91.4, 123.9, 74.5, 126.5, 106.3, 82.8, 68.5, 126.9, 83.3, 110.0, 86.6, 104.4, 85.0, 96.2, 111.3, 117.4, 78.9, 43.2, 93.2, 81.3, 85.1, 102.8, 82.9, 85.8, 85.9, 89.4, 101.9, 121.0, 71.7, 98.4, 83.1, 76.4, 37.4, 75.2, 75.5, 125.4, 115.8, 111.9, 82.0, 98.7, 82.4, 49.4, 117.4, 84.8, 101.4, 103.7, 85.8, 93.9, 95.1, 85.4, 116.4, 94.2, 110.0, 115.1, 86.4, 84.1, 85.8, 101.0, 92.4], \"type\": \"choropleth\"}], \"name\": \"4\"}, {\"data\": [{\"coloraxis\": \"coloraxis\", \"geo\": \"geo\", \"hoverlabel\": {\"namelength\": 0}, \"hovertemplate\": \"month=5<br>country=%{location}<br>max_tem=%{z}\", \"locationmode\": \"country names\", \"locations\": [\"AD\", \"AF\", \"AG\", \"AI\", \"AL\", \"AM\", \"AR\", \"AT\", \"AU\", \"AW\", \"AX\", \"AZ\", \"BA\", \"BB\", \"BD\", \"BE\", \"BG\", \"BH\", \"BL\", \"BM\", \"BN\", \"BO\", \"BQ\", \"BR\", \"BT\", \"BY\", \"CA\", \"CC\", \"CH\", \"CL\", \"CN\", \"CO\", \"CR\", \"CU\", \"CV\", \"CW\", \"CX\", \"CY\", \"CZ\", \"DE\", \"DK\", \"DO\", \"DZ\", \"EC\", \"EE\", \"EG\", \"ES\", \"ET\", \"FI\", \"FK\", \"FM\", \"FO\", \"FR\", \"GB\", \"GF\", \"GG\", \"GI\", \"GL\", \"GN\", \"GP\", \"GR\", \"GS\", \"GT\", \"GW\", \"HK\", \"HM\", \"HN\", \"HR\", \"HT\", \"HU\", \"ID\", \"IE\", \"IL\", \"IM\", \"IN\", \"IO\", \"IQ\", \"IR\", \"IS\", \"IT\", \"JE\", \"JM\", \"JO\", \"JP\", \"KE\", \"KH\", \"KR\", \"KW\", \"KY\", \"KZ\", \"LA\", \"LB\", \"LI\", \"LK\", \"LT\", \"LU\", \"LV\", \"MA\", \"MC\", \"MD\", \"ME\", \"MF\", \"MG\", \"MH\", \"MK\", \"MM\", \"MN\", \"MO\", \"MQ\", \"MS\", \"MT\", \"MU\", \"MV\", \"MW\", \"MX\", \"MY\", \"MZ\", \"NA\", \"NC\", \"NE\", \"NF\", \"NG\", \"NI\", \"NL\", \"NO\", \"NP\", \"NZ\", \"OM\", \"PA\", \"PE\", \"PF\", \"PG\", \"PH\", \"PK\", \"PL\", \"PM\", \"PS\", \"PT\", \"PW\", \"PY\", \"RE\", \"RO\", \"RS\", \"RU\", \"SA\", \"SD\", \"SE\", \"SG\", \"SH\", \"SI\", \"SJ\", \"SK\", \"SM\", \"SN\", \"SS\", \"SV\", \"SX\", \"SZ\", \"TC\", \"TF\", \"TH\", \"TJ\", \"TM\", \"TN\", \"TR\", \"TT\", \"TW\", \"UA\", \"US\", \"UY\", \"VE\", \"VN\", \"WF\", \"XK\", \"YT\", \"ZA\", \"ZM\"], \"name\": \"\", \"z\": [72.9, 108.8, 112.7, 83.0, 96.8, 95.2, 94.9, 83.0, 101.4, 82.6, 57.4, 103.4, 109.8, 84.2, 116.8, 89.0, 101.3, 93.5, 83.1, 73.1, 96.8, 67.1, 82.4, 101.1, 109.9, 81.3, 104.4, 84.6, 81.8, 97.2, 113.1, 120.7, 109.7, 98.5, 85.2, 82.4, 85.3, 107.0, 80.4, 86.4, 72.4, 101.3, 113.0, 101.7, 70.9, 119.5, 105.5, 112.5, 73.4, 50.8, 85.4, 57.6, 95.8, 94.2, 90.1, 63.8, 82.6, 57.4, 116.6, 89.9, 105.3, 34.3, 109.6, 118.6, 86.3, 41.4, 114.6, 110.8, 101.2, 82.7, 103.0, 71.7, 111.4, 62.0, 129.5, 84.8, 118.8, 117.4, 61.0, 107.3, 84.8, 99.4, 111.4, 89.0, 98.3, 114.1, 86.3, 118.0, 88.1, 111.2, 113.7, 106.1, 74.8, 110.0, 72.5, 76.4, 70.5, 111.1, 73.1, 86.9, 93.2, 83.2, 99.5, 85.1, 97.0, 112.5, 97.0, 86.1, 84.3, 84.1, 76.8, 86.3, 88.2, 94.5, 118.1, 100.5, 98.3, 92.8, 87.8, 122.7, 73.7, 123.0, 110.1, 88.0, 78.2, 121.7, 74.6, 114.6, 86.1, 103.3, 84.9, 98.0, 116.5, 124.6, 81.4, 47.9, 110.9, 103.0, 85.8, 101.0, 79.8, 98.3, 109.7, 105.3, 111.0, 120.8, 75.7, 96.2, 82.2, 81.1, 41.7, 81.1, 85.9, 124.4, 111.5, 110.7, 83.2, 88.2, 83.2, 46.8, 116.3, 86.8, 113.0, 116.1, 113.2, 90.5, 99.9, 110.1, 120.1, 85.2, 110.1, 108.9, 85.8, 109.7, 84.7, 94.4, 92.1], \"type\": \"choropleth\"}], \"name\": \"5\"}, {\"data\": [{\"coloraxis\": \"coloraxis\", \"geo\": \"geo\", \"hoverlabel\": {\"namelength\": 0}, \"hovertemplate\": \"month=6<br>country=%{location}<br>max_tem=%{z}\", \"locationmode\": \"country names\", \"locations\": [\"AD\", \"AF\", \"AG\", \"AI\", \"AL\", \"AM\", \"AR\", \"AT\", \"AU\", \"AW\", \"AX\", \"AZ\", \"BA\", \"BB\", \"BD\", \"BE\", \"BG\", \"BH\", \"BL\", \"BM\", \"BN\", \"BO\", \"BQ\", \"BR\", \"BT\", \"BY\", \"CA\", \"CC\", \"CH\", \"CL\", \"CN\", \"CO\", \"CR\", \"CU\", \"CV\", \"CW\", \"CX\", \"CY\", \"CZ\", \"DE\", \"DK\", \"DO\", \"DZ\", \"EC\", \"EE\", \"EG\", \"ES\", \"ET\", \"FI\", \"FK\", \"FM\", \"FO\", \"FR\", \"GB\", \"GF\", \"GG\", \"GI\", \"GL\", \"GN\", \"GP\", \"GR\", \"GS\", \"GT\", \"GW\", \"HK\", \"HM\", \"HN\", \"HR\", \"HT\", \"HU\", \"ID\", \"IE\", \"IL\", \"IM\", \"IN\", \"IO\", \"IQ\", \"IR\", \"IS\", \"IT\", \"JE\", \"JM\", \"JO\", \"JP\", \"KE\", \"KH\", \"KR\", \"KW\", \"KY\", \"KZ\", \"LA\", \"LB\", \"LI\", \"LK\", \"LT\", \"LU\", \"LV\", \"MA\", \"MC\", \"MD\", \"ME\", \"MF\", \"MG\", \"MH\", \"MK\", \"MM\", \"MN\", \"MO\", \"MQ\", \"MS\", \"MT\", \"MU\", \"MV\", \"MW\", \"MX\", \"MY\", \"MZ\", \"NA\", \"NC\", \"NE\", \"NF\", \"NG\", \"NI\", \"NL\", \"NO\", \"NP\", \"NZ\", \"OM\", \"PA\", \"PE\", \"PF\", \"PG\", \"PH\", \"PK\", \"PL\", \"PM\", \"PS\", \"PT\", \"PW\", \"PY\", \"RE\", \"RO\", \"RS\", \"RU\", \"SA\", \"SD\", \"SE\", \"SG\", \"SH\", \"SI\", \"SJ\", \"SK\", \"SM\", \"SN\", \"SS\", \"SV\", \"SX\", \"SZ\", \"TC\", \"TF\", \"TH\", \"TJ\", \"TM\", \"TN\", \"TR\", \"TT\", \"TW\", \"UA\", \"US\", \"UY\", \"VE\", \"VN\", \"WF\", \"XK\", \"YT\", \"ZA\", \"ZM\"], \"name\": \"\", \"z\": [74.3, 115.6, 108.3, 84.8, 94.7, 97.0, 92.6, 94.2, 95.8, 83.2, 74.5, 109.8, 106.9, 84.9, 106.0, 91.7, 100.7, 98.4, 84.8, 78.8, 96.0, 66.4, 82.9, 97.5, 106.3, 92.1, 106.4, 81.9, 86.4, 84.7, 113.6, 115.1, 105.7, 96.3, 90.6, 83.0, 83.9, 108.4, 89.6, 92.7, 84.0, 100.4, 117.5, 95.7, 90.9, 117.7, 113.9, 107.6, 91.5, 49.0, 85.4, 56.5, 100.6, 97.2, 91.6, 69.8, 84.8, 62.8, 112.6, 89.8, 103.9, 34.6, 108.3, 114.5, 87.9, 40.3, 105.7, 108.3, 100.8, 98.1, 101.0, 76.2, 105.1, 67.7, 124.7, 84.2, 121.6, 121.8, 72.7, 107.7, 89.6, 99.3, 105.8, 94.6, 96.5, 106.2, 95.4, 119.3, 89.6, 114.8, 103.5, 102.1, 78.7, 107.7, 90.4, 87.2, 89.8, 114.3, 84.4, 93.5, 91.4, 84.9, 98.2, 84.6, 99.1, 94.5, 100.9, 87.7, 84.0, 85.1, 75.8, 82.7, 85.9, 91.8, 117.5, 98.6, 92.6, 84.9, 82.7, 123.9, 71.1, 122.5, 106.3, 91.9, 89.7, 114.7, 68.3, 122.8, 86.9, 102.7, 83.3, 94.6, 108.9, 128.1, 92.7, 57.7, 101.5, 111.2, 85.7, 94.5, 74.7, 101.5, 105.9, 106.8, 116.7, 119.8, 90.1, 91.2, 80.5, 91.5, 43.1, 92.1, 94.6, 123.7, 102.3, 98.5, 84.9, 85.6, 84.8, 46.7, 113.1, 105.3, 119.7, 118.4, 111.1, 89.8, 98.6, 108.8, 121.0, 81.3, 103.8, 107.8, 85.2, 105.9, 82.5, 90.7, 89.5], \"type\": \"choropleth\"}], \"name\": \"6\"}, {\"data\": [{\"coloraxis\": \"coloraxis\", \"geo\": \"geo\", \"hoverlabel\": {\"namelength\": 0}, \"hovertemplate\": \"month=7<br>country=%{location}<br>max_tem=%{z}\", \"locationmode\": \"country names\", \"locations\": [\"AD\", \"AF\", \"AG\", \"AI\", \"AL\", \"AM\", \"AR\", \"AT\", \"AU\", \"AW\", \"AX\", \"AZ\", \"BA\", \"BB\", \"BD\", \"BE\", \"BG\", \"BH\", \"BL\", \"BM\", \"BN\", \"BO\", \"BQ\", \"BR\", \"BT\", \"BY\", \"CA\", \"CC\", \"CH\", \"CL\", \"CN\", \"CO\", \"CR\", \"CU\", \"CV\", \"CW\", \"CX\", \"CY\", \"CZ\", \"DE\", \"DK\", \"DO\", \"DZ\", \"EC\", \"EE\", \"EG\", \"ES\", \"ET\", \"FI\", \"FK\", \"FM\", \"FO\", \"FR\", \"GB\", \"GF\", \"GG\", \"GI\", \"GL\", \"GN\", \"GP\", \"GR\", \"GS\", \"GT\", \"GW\", \"HK\", \"HM\", \"HN\", \"HR\", \"HT\", \"HU\", \"ID\", \"IE\", \"IL\", \"IM\", \"IN\", \"IO\", \"IQ\", \"IR\", \"IS\", \"IT\", \"JE\", \"JM\", \"JO\", \"JP\", \"KE\", \"KH\", \"KR\", \"KW\", \"KY\", \"KZ\", \"LA\", \"LB\", \"LI\", \"LK\", \"LT\", \"LU\", \"LV\", \"MA\", \"MC\", \"MD\", \"ME\", \"MF\", \"MG\", \"MH\", \"MK\", \"MM\", \"MN\", \"MO\", \"MQ\", \"MS\", \"MT\", \"MU\", \"MV\", \"MW\", \"MX\", \"MY\", \"MZ\", \"NA\", \"NC\", \"NE\", \"NF\", \"NG\", \"NI\", \"NL\", \"NO\", \"NP\", \"NZ\", \"OM\", \"PA\", \"PE\", \"PF\", \"PG\", \"PH\", \"PK\", \"PL\", \"PM\", \"PS\", \"PT\", \"PW\", \"PY\", \"RE\", \"RO\", \"RS\", \"RU\", \"SA\", \"SD\", \"SE\", \"SG\", \"SH\", \"SI\", \"SJ\", \"SK\", \"SM\", \"SN\", \"SS\", \"SV\", \"SX\", \"SZ\", \"TC\", \"TF\", \"TH\", \"TJ\", \"TM\", \"TN\", \"TR\", \"TT\", \"TW\", \"UA\", \"US\", \"UY\", \"VE\", \"VN\", \"WF\", \"XK\", \"YT\", \"ZA\", \"ZM\"], \"name\": \"\", \"z\": [83.9, 116.9, 113.4, 84.8, 103.3, 110.1, 96.4, 100.0, 95.7, 84.9, 70.1, 111.9, 112.4, 85.1, 94.0, 101.3, 105.9, 101.4, 84.7, 84.4, 94.7, 65.3, 84.7, 101.0, 110.9, 93.0, 106.0, 81.5, 98.4, 89.0, 111.3, 113.4, 110.9, 99.4, 93.8, 85.6, 82.3, 112.8, 95.0, 102.4, 78.4, 100.6, 120.1, 96.4, 83.2, 121.0, 118.4, 108.1, 81.7, 42.0, 85.8, 60.1, 110.2, 102.9, 94.3, 71.8, 90.2, 67.2, 109.6, 89.2, 109.6, 31.2, 102.6, 111.6, 90.1, 40.5, 110.7, 111.7, 99.2, 104.8, 102.5, 71.8, 111.7, 63.7, 124.8, 83.3, 132.7, 125.3, 65.0, 111.3, 94.1, 100.9, 116.8, 94.6, 97.8, 101.1, 92.0, 126.5, 90.3, 116.5, 105.4, 105.1, 85.3, 116.6, 88.7, 97.7, 84.1, 125.5, 82.8, 103.5, 99.8, 84.8, 102.0, 84.8, 105.8, 95.3, 106.4, 90.3, 84.6, 85.0, 83.3, 81.8, 86.3, 96.4, 117.7, 98.3, 95.7, 89.3, 84.3, 116.8, 68.7, 116.7, 112.3, 99.1, 77.2, 113.1, 66.0, 119.1, 84.5, 99.8, 82.4, 96.7, 110.2, 125.8, 92.3, 62.2, 108.5, 119.1, 85.5, 96.5, 77.0, 104.9, 112.1, 110.8, 118.4, 115.1, 80.7, 90.6, 78.9, 99.1, 51.8, 95.6, 99.8, 119.0, 92.2, 104.9, 84.8, 89.4, 85.2, 44.1, 112.5, 102.8, 119.5, 118.4, 121.2, 87.0, 100.7, 114.0, 123.2, 85.0, 104.6, 108.1, 84.2, 110.5, 80.0, 91.3, 92.0], \"type\": \"choropleth\"}], \"name\": \"7\"}, {\"data\": [{\"coloraxis\": \"coloraxis\", \"geo\": \"geo\", \"hoverlabel\": {\"namelength\": 0}, \"hovertemplate\": \"month=8<br>country=%{location}<br>max_tem=%{z}\", \"locationmode\": \"country names\", \"locations\": [\"AD\", \"AF\", \"AG\", \"AI\", \"AL\", \"AM\", \"AR\", \"AT\", \"AU\", \"AW\", \"AX\", \"AZ\", \"BA\", \"BB\", \"BD\", \"BE\", \"BG\", \"BH\", \"BL\", \"BM\", \"BN\", \"BO\", \"BQ\", \"BR\", \"BT\", \"BY\", \"CA\", \"CC\", \"CH\", \"CL\", \"CN\", \"CO\", \"CR\", \"CU\", \"CV\", \"CW\", \"CX\", \"CY\", \"CZ\", \"DE\", \"DK\", \"DO\", \"DZ\", \"EC\", \"EE\", \"EG\", \"ES\", \"ET\", \"FI\", \"FK\", \"FM\", \"FO\", \"FR\", \"GB\", \"GF\", \"GG\", \"GI\", \"GL\", \"GN\", \"GP\", \"GR\", \"GS\", \"GT\", \"GW\", \"HK\", \"HM\", \"HN\", \"HR\", \"HT\", \"HU\", \"ID\", \"IE\", \"IL\", \"IM\", \"IN\", \"IO\", \"IQ\", \"IR\", \"IS\", \"IT\", \"JE\", \"JM\", \"JO\", \"JP\", \"KE\", \"KH\", \"KR\", \"KW\", \"KY\", \"KZ\", \"LA\", \"LB\", \"LI\", \"LK\", \"LT\", \"LU\", \"LV\", \"MA\", \"MC\", \"MD\", \"ME\", \"MF\", \"MG\", \"MH\", \"MK\", \"MM\", \"MN\", \"MO\", \"MQ\", \"MS\", \"MT\", \"MU\", \"MV\", \"MW\", \"MX\", \"MY\", \"MZ\", \"NA\", \"NC\", \"NE\", \"NF\", \"NG\", \"NI\", \"NL\", \"NO\", \"NP\", \"NZ\", \"OM\", \"PA\", \"PE\", \"PF\", \"PG\", \"PH\", \"PK\", \"PL\", \"PM\", \"PS\", \"PT\", \"PW\", \"PY\", \"RE\", \"RO\", \"RS\", \"RU\", \"SA\", \"SD\", \"SE\", \"SG\", \"SH\", \"SI\", \"SJ\", \"SK\", \"SM\", \"SN\", \"SS\", \"SV\", \"SX\", \"SZ\", \"TC\", \"TF\", \"TH\", \"TJ\", \"TM\", \"TN\", \"TR\", \"TT\", \"TW\", \"UA\", \"US\", \"UY\", \"VE\", \"VN\", \"WF\", \"XK\", \"YT\", \"ZA\", \"ZM\"], \"name\": \"\", \"z\": [85.8, 114.4, 115.2, 85.2, 100.3, 99.1, 103.6, 98.4, 107.3, 85.0, 73.6, 104.6, 114.5, 84.7, 105.3, 102.6, 102.9, 100.4, 85.1, 85.1, 98.5, 70.3, 84.9, 113.9, 114.9, 92.3, 108.3, 82.0, 95.0, 88.5, 112.4, 113.4, 114.9, 100.4, 93.2, 85.6, 80.8, 111.5, 95.0, 102.4, 90.5, 99.4, 118.4, 103.7, 85.2, 116.5, 117.3, 101.2, 82.7, 47.5, 86.3, 58.8, 111.9, 103.4, 97.6, 71.9, 94.4, 62.8, 96.9, 98.7, 107.5, 33.0, 101.8, 96.5, 88.6, 39.1, 112.1, 115.2, 98.8, 100.9, 107.6, 75.3, 114.1, 66.4, 118.6, 82.3, 127.4, 121.0, 69.5, 116.3, 92.9, 97.5, 115.3, 104.4, 99.1, 101.8, 94.6, 122.6, 90.2, 112.2, 100.9, 105.1, 83.2, 114.9, 91.6, 99.0, 87.3, 121.2, 83.1, 98.5, 99.4, 85.2, 101.7, 85.4, 101.3, 92.1, 103.0, 88.5, 85.5, 85.6, 87.0, 80.1, 85.4, 106.4, 116.5, 101.3, 105.5, 99.9, 85.1, 110.2, 67.9, 109.5, 114.9, 102.0, 83.2, 114.6, 68.1, 119.8, 86.6, 105.5, 81.2, 97.0, 113.2, 124.9, 97.7, 67.2, 112.8, 115.6, 85.6, 105.6, 74.2, 100.3, 115.0, 103.4, 117.5, 113.8, 92.9, 91.7, 77.1, 95.5, 47.9, 98.2, 100.7, 118.4, 88.9, 106.1, 85.2, 95.4, 85.5, 43.0, 114.5, 103.5, 116.4, 119.3, 120.1, 89.1, 99.5, 115.2, 122.4, 94.2, 106.8, 106.1, 83.9, 115.0, 78.9, 100.7, 103.0], \"type\": \"choropleth\"}], \"name\": \"8\"}, {\"data\": [{\"coloraxis\": \"coloraxis\", \"geo\": \"geo\", \"hoverlabel\": {\"namelength\": 0}, \"hovertemplate\": \"month=9<br>country=%{location}<br>max_tem=%{z}\", \"locationmode\": \"country names\", \"locations\": [\"AD\", \"AF\", \"AG\", \"AI\", \"AL\", \"AM\", \"AR\", \"AT\", \"AU\", \"AW\", \"AX\", \"AZ\", \"BA\", \"BB\", \"BD\", \"BE\", \"BG\", \"BH\", \"BL\", \"BM\", \"BN\", \"BO\", \"BQ\", \"BR\", \"BT\", \"BY\", \"CA\", \"CC\", \"CH\", \"CL\", \"CN\", \"CO\", \"CR\", \"CU\", \"CV\", \"CW\", \"CX\", \"CY\", \"CZ\", \"DE\", \"DK\", \"DO\", \"DZ\", \"EC\", \"EE\", \"EG\", \"ES\", \"ET\", \"FI\", \"FK\", \"FM\", \"FO\", \"FR\", \"GB\", \"GF\", \"GG\", \"GI\", \"GL\", \"GN\", \"GP\", \"GR\", \"GS\", \"GT\", \"GW\", \"HK\", \"HM\", \"HN\", \"HR\", \"HT\", \"HU\", \"ID\", \"IE\", \"IL\", \"IM\", \"IN\", \"IO\", \"IQ\", \"IR\", \"IS\", \"IT\", \"JE\", \"JM\", \"JO\", \"JP\", \"KE\", \"KH\", \"KR\", \"KW\", \"KY\", \"KZ\", \"LA\", \"LB\", \"LI\", \"LK\", \"LT\", \"LU\", \"LV\", \"MA\", \"MC\", \"MD\", \"ME\", \"MF\", \"MG\", \"MH\", \"MK\", \"MM\", \"MN\", \"MO\", \"MQ\", \"MS\", \"MT\", \"MU\", \"MV\", \"MW\", \"MX\", \"MY\", \"MZ\", \"NA\", \"NC\", \"NE\", \"NF\", \"NG\", \"NI\", \"NL\", \"NO\", \"NP\", \"NZ\", \"OM\", \"PA\", \"PE\", \"PF\", \"PG\", \"PH\", \"PK\", \"PL\", \"PM\", \"PS\", \"PT\", \"PW\", \"PY\", \"RE\", \"RO\", \"RS\", \"RU\", \"SA\", \"SD\", \"SE\", \"SG\", \"SH\", \"SI\", \"SJ\", \"SK\", \"SM\", \"SN\", \"SS\", \"SV\", \"SX\", \"SZ\", \"TC\", \"TF\", \"TH\", \"TJ\", \"TM\", \"TN\", \"TR\", \"TT\", \"TW\", \"UA\", \"US\", \"UY\", \"VE\", \"VN\", \"WF\", \"XK\", \"YT\", \"ZA\", \"ZM\"], \"name\": \"\", \"z\": [75.7, 101.8, 117.2, 85.3, 100.5, 100.6, 110.5, 88.7, 116.4, 86.4, 64.7, 100.2, 118.4, 85.9, 103.6, 96.7, 102.6, 98.6, 85.3, 84.2, 99.6, 67.6, 86.4, 117.6, 119.0, 91.6, 104.9, 81.4, 85.5, 91.1, 104.3, 110.9, 119.0, 109.3, 93.2, 86.4, 81.5, 114.5, 86.6, 97.1, 79.2, 103.4, 119.3, 99.8, 77.6, 119.8, 109.1, 106.4, 75.3, 55.0, 86.1, 55.5, 102.7, 97.9, 100.1, 73.7, 87.8, 51.3, 97.1, 94.0, 107.7, 33.8, 101.0, 94.6, 90.0, 35.8, 104.0, 114.5, 96.8, 93.2, 110.6, 70.7, 117.9, 63.9, 113.3, 82.8, 121.6, 116.7, 57.8, 101.2, 87.7, 97.0, 115.0, 99.9, 103.4, 100.9, 88.5, 118.7, 90.5, 102.4, 103.7, 110.7, 78.0, 118.8, 82.5, 95.2, 80.3, 113.8, 79.7, 98.7, 96.3, 85.3, 110.7, 86.0, 100.0, 95.3, 104.1, 89.5, 86.1, 85.9, 82.2, 80.6, 85.0, 112.1, 118.8, 99.6, 114.9, 111.0, 94.3, 112.4, 69.0, 110.3, 119.0, 97.3, 71.3, 118.7, 73.7, 111.7, 85.1, 106.0, 81.1, 97.1, 109.8, 119.0, 88.4, 64.7, 117.6, 111.8, 86.4, 110.4, 77.5, 100.2, 119.0, 103.9, 117.7, 114.9, 78.3, 91.4, 76.0, 88.6, 47.8, 89.2, 87.5, 115.9, 91.5, 99.4, 85.3, 100.2, 85.8, 42.8, 118.7, 90.2, 105.3, 110.6, 123.4, 90.9, 99.2, 119.0, 121.9, 93.6, 103.6, 103.1, 83.3, 119.0, 79.8, 106.9, 108.0], \"type\": \"choropleth\"}], \"name\": \"9\"}, {\"data\": [{\"coloraxis\": \"coloraxis\", \"geo\": \"geo\", \"hoverlabel\": {\"namelength\": 0}, \"hovertemplate\": \"month=10<br>country=%{location}<br>max_tem=%{z}\", \"locationmode\": \"country names\", \"locations\": [\"AD\", \"AF\", \"AG\", \"AI\", \"AL\", \"AM\", \"AR\", \"AT\", \"AU\", \"AW\", \"AX\", \"AZ\", \"BA\", \"BB\", \"BD\", \"BE\", \"BG\", \"BH\", \"BL\", \"BM\", \"BN\", \"BO\", \"BQ\", \"BR\", \"BT\", \"BY\", \"CA\", \"CC\", \"CH\", \"CL\", \"CN\", \"CO\", \"CR\", \"CU\", \"CV\", \"CW\", \"CX\", \"CY\", \"CZ\", \"DE\", \"DK\", \"DO\", \"DZ\", \"EC\", \"EE\", \"EG\", \"ES\", \"ET\", \"FI\", \"FK\", \"FM\", \"FO\", \"FR\", \"GB\", \"GF\", \"GG\", \"GI\", \"GL\", \"GN\", \"GP\", \"GR\", \"GS\", \"GT\", \"GW\", \"HK\", \"HM\", \"HN\", \"HR\", \"HT\", \"HU\", \"ID\", \"IE\", \"IL\", \"IM\", \"IN\", \"IO\", \"IQ\", \"IR\", \"IS\", \"IT\", \"JE\", \"JM\", \"JO\", \"JP\", \"KE\", \"KH\", \"KR\", \"KW\", \"KY\", \"KZ\", \"LA\", \"LB\", \"LI\", \"LK\", \"LT\", \"LU\", \"LV\", \"MA\", \"MC\", \"MD\", \"ME\", \"MF\", \"MG\", \"MH\", \"MK\", \"MM\", \"MN\", \"MO\", \"MQ\", \"MS\", \"MT\", \"MU\", \"MV\", \"MW\", \"MX\", \"MY\", \"MZ\", \"NA\", \"NC\", \"NE\", \"NF\", \"NG\", \"NI\", \"NL\", \"NO\", \"NP\", \"NZ\", \"OM\", \"PA\", \"PE\", \"PF\", \"PG\", \"PH\", \"PK\", \"PL\", \"PM\", \"PS\", \"PT\", \"PW\", \"PY\", \"RE\", \"RO\", \"RS\", \"RU\", \"SA\", \"SD\", \"SE\", \"SG\", \"SH\", \"SI\", \"SJ\", \"SK\", \"SM\", \"SN\", \"SS\", \"SV\", \"SX\", \"SZ\", \"TC\", \"TF\", \"TH\", \"TJ\", \"TM\", \"TN\", \"TR\", \"TT\", \"TW\", \"UA\", \"US\", \"UY\", \"VE\", \"VN\", \"WF\", \"XK\", \"YT\", \"ZA\", \"ZM\"], \"name\": \"\", \"z\": [63.3, 93.2, 101.6, 85.0, 87.8, 85.0, 114.4, 78.6, 116.6, 85.7, 59.4, 84.4, 101.5, 85.6, 99.4, 70.3, 98.1, 93.8, 85.1, 80.2, 94.2, 70.5, 85.5, 122.1, 100.5, 72.9, 93.6, 80.8, 71.8, 97.2, 97.8, 109.3, 99.9, 99.9, 90.1, 85.6, 81.6, 101.3, 76.9, 76.5, 64.9, 97.3, 111.0, 100.7, 67.2, 113.3, 96.7, 104.2, 63.4, 60.7, 85.9, 52.9, 100.9, 89.0, 100.9, 63.2, 76.1, 48.1, 98.5, 92.0, 99.5, 34.1, 100.3, 101.9, 85.6, 38.0, 98.5, 99.8, 97.2, 86.1, 108.4, 59.3, 105.9, 58.7, 108.2, 83.5, 108.8, 107.7, 50.4, 95.7, 77.0, 93.1, 104.9, 84.2, 106.1, 93.9, 80.0, 107.1, 89.0, 81.3, 99.6, 99.4, 64.0, 108.8, 74.9, 69.4, 73.2, 108.6, 68.0, 82.7, 89.8, 85.1, 113.8, 85.2, 89.1, 94.7, 95.4, 85.2, 85.8, 85.7, 85.5, 88.5, 85.1, 112.5, 109.9, 98.3, 113.3, 115.8, 92.8, 115.1, 70.6, 112.5, 101.0, 85.6, 65.4, 102.6, 80.3, 108.2, 86.6, 108.1, 81.9, 103.2, 101.8, 110.9, 76.8, 64.2, 105.3, 91.5, 85.7, 116.2, 80.1, 95.8, 100.2, 89.2, 108.5, 111.8, 66.2, 93.8, 76.7, 81.1, 44.4, 79.9, 75.4, 114.1, 95.9, 99.4, 85.1, 99.2, 85.2, 43.1, 101.7, 77.9, 89.5, 111.6, 105.9, 92.8, 97.8, 102.6, 111.7, 99.8, 103.7, 92.2, 84.0, 100.2, 81.6, 109.2, 108.4], \"type\": \"choropleth\"}], \"name\": \"10\"}, {\"data\": [{\"coloraxis\": \"coloraxis\", \"geo\": \"geo\", \"hoverlabel\": {\"namelength\": 0}, \"hovertemplate\": \"month=11<br>country=%{location}<br>max_tem=%{z}\", \"locationmode\": \"country names\", \"locations\": [\"AD\", \"AF\", \"AG\", \"AI\", \"AL\", \"AM\", \"AR\", \"AT\", \"AU\", \"AW\", \"AX\", \"AZ\", \"BA\", \"BB\", \"BD\", \"BE\", \"BG\", \"BH\", \"BL\", \"BM\", \"BN\", \"BO\", \"BQ\", \"BR\", \"BT\", \"BY\", \"CA\", \"CC\", \"CH\", \"CL\", \"CN\", \"CO\", \"CR\", \"CU\", \"CV\", \"CW\", \"CX\", \"CY\", \"CZ\", \"DE\", \"DK\", \"DO\", \"DZ\", \"EC\", \"EE\", \"EG\", \"ES\", \"ET\", \"FI\", \"FK\", \"FM\", \"FO\", \"FR\", \"GB\", \"GF\", \"GG\", \"GI\", \"GL\", \"GN\", \"GP\", \"GR\", \"GS\", \"GT\", \"GW\", \"HK\", \"HM\", \"HN\", \"HR\", \"HT\", \"HU\", \"ID\", \"IE\", \"IL\", \"IM\", \"IN\", \"IO\", \"IQ\", \"IR\", \"IS\", \"IT\", \"JE\", \"JM\", \"JO\", \"JP\", \"KE\", \"KH\", \"KR\", \"KW\", \"KY\", \"KZ\", \"LA\", \"LB\", \"LI\", \"LK\", \"LT\", \"LU\", \"LV\", \"MA\", \"MC\", \"MD\", \"ME\", \"MF\", \"MG\", \"MH\", \"MK\", \"MM\", \"MN\", \"MO\", \"MQ\", \"MS\", \"MT\", \"MU\", \"MV\", \"MW\", \"MX\", \"MY\", \"MZ\", \"NA\", \"NC\", \"NE\", \"NF\", \"NG\", \"NI\", \"NL\", \"NO\", \"NP\", \"NZ\", \"OM\", \"PA\", \"PE\", \"PF\", \"PG\", \"PH\", \"PK\", \"PL\", \"PM\", \"PS\", \"PT\", \"PW\", \"PY\", \"RE\", \"RO\", \"RS\", \"RU\", \"SA\", \"SD\", \"SE\", \"SG\", \"SH\", \"SI\", \"SJ\", \"SK\", \"SM\", \"SN\", \"SS\", \"SV\", \"SX\", \"SZ\", \"TC\", \"TF\", \"TH\", \"TJ\", \"TM\", \"TN\", \"TR\", \"TT\", \"TW\", \"UA\", \"US\", \"UY\", \"VE\", \"VN\", \"WF\", \"XK\", \"YT\", \"ZA\", \"ZM\"], \"name\": \"\", \"z\": [60.6, 84.3, 83.9, 84.0, 72.7, 76.8, 112.0, 70.5, 118.5, 84.7, 55.4, 84.2, 80.3, 83.6, 92.6, 66.8, 68.2, 86.1, 84.0, 78.2, 94.8, 76.8, 84.7, 116.4, 81.9, 52.5, 82.0, 81.4, 71.0, 105.3, 95.7, 106.4, 96.9, 91.4, 88.5, 84.6, 82.8, 82.2, 65.4, 72.1, 62.4, 95.5, 96.6, 98.2, 57.8, 92.9, 84.9, 103.0, 56.0, 68.8, 86.0, 52.7, 100.7, 86.7, 99.6, 63.1, 75.9, 42.5, 101.6, 87.5, 76.1, 34.8, 102.1, 101.4, 79.5, 40.7, 93.7, 83.7, 95.3, 69.3, 105.3, 58.8, 85.0, 57.8, 105.6, 84.3, 95.5, 98.3, 52.0, 79.6, 78.5, 91.4, 86.3, 81.8, 102.7, 96.8, 73.6, 93.0, 86.7, 78.0, 95.7, 81.2, 64.9, 100.4, 56.9, 64.6, 58.5, 97.3, 64.8, 56.8, 71.2, 84.0, 118.8, 85.1, 69.9, 94.3, 69.1, 80.6, 83.8, 84.1, 72.0, 91.3, 84.8, 120.4, 106.3, 96.6, 118.1, 110.9, 97.3, 109.4, 72.6, 110.7, 94.9, 84.6, 58.3, 93.6, 80.9, 96.2, 86.7, 109.4, 82.7, 101.5, 100.0, 99.1, 64.4, 58.0, 82.0, 79.9, 86.0, 117.1, 81.4, 67.6, 81.4, 70.4, 96.8, 105.5, 60.4, 92.7, 76.8, 69.3, 42.8, 63.6, 64.9, 110.9, 103.4, 95.6, 84.0, 111.1, 84.2, 44.3, 97.8, 77.9, 91.5, 84.1, 83.7, 87.7, 95.7, 83.7, 113.8, 104.6, 100.8, 92.9, 84.4, 81.4, 83.0, 112.1, 103.7], \"type\": \"choropleth\"}], \"name\": \"11\"}, {\"data\": [{\"coloraxis\": \"coloraxis\", \"geo\": \"geo\", \"hoverlabel\": {\"namelength\": 0}, \"hovertemplate\": \"month=12<br>country=%{location}<br>max_tem=%{z}\", \"locationmode\": \"country names\", \"locations\": [\"AD\", \"AF\", \"AG\", \"AI\", \"AL\", \"AM\", \"AR\", \"AT\", \"AU\", \"AW\", \"AX\", \"AZ\", \"BA\", \"BB\", \"BD\", \"BE\", \"BG\", \"BH\", \"BL\", \"BM\", \"BN\", \"BO\", \"BQ\", \"BR\", \"BT\", \"BY\", \"CA\", \"CC\", \"CH\", \"CL\", \"CN\", \"CO\", \"CR\", \"CU\", \"CV\", \"CW\", \"CX\", \"CY\", \"CZ\", \"DE\", \"DK\", \"DO\", \"DZ\", \"EC\", \"EE\", \"EG\", \"ES\", \"ET\", \"FI\", \"FK\", \"FM\", \"FO\", \"FR\", \"GB\", \"GF\", \"GG\", \"GI\", \"GL\", \"GN\", \"GP\", \"GR\", \"GS\", \"GT\", \"GW\", \"HK\", \"HM\", \"HN\", \"HR\", \"HT\", \"HU\", \"ID\", \"IE\", \"IL\", \"IM\", \"IN\", \"IO\", \"IQ\", \"IR\", \"IS\", \"IT\", \"JE\", \"JM\", \"JO\", \"JP\", \"KE\", \"KH\", \"KR\", \"KW\", \"KY\", \"KZ\", \"LA\", \"LB\", \"LI\", \"LK\", \"LT\", \"LU\", \"LV\", \"MA\", \"MC\", \"MD\", \"ME\", \"MF\", \"MG\", \"MH\", \"MK\", \"MM\", \"MN\", \"MO\", \"MQ\", \"MS\", \"MT\", \"MU\", \"MV\", \"MW\", \"MX\", \"MY\", \"MZ\", \"NA\", \"NC\", \"NE\", \"NF\", \"NG\", \"NI\", \"NL\", \"NO\", \"NP\", \"NZ\", \"OM\", \"PA\", \"PE\", \"PF\", \"PG\", \"PH\", \"PK\", \"PL\", \"PM\", \"PS\", \"PT\", \"PW\", \"PY\", \"RE\", \"RO\", \"RS\", \"RU\", \"SA\", \"SD\", \"SE\", \"SG\", \"SH\", \"SI\", \"SJ\", \"SK\", \"SM\", \"SN\", \"SS\", \"SV\", \"SX\", \"SZ\", \"TC\", \"TF\", \"TH\", \"TJ\", \"TM\", \"TN\", \"TR\", \"TT\", \"TW\", \"UA\", \"US\", \"UY\", \"VE\", \"VN\", \"WF\", \"XK\", \"YT\", \"ZA\", \"ZM\"], \"name\": \"\", \"z\": [47.6, 74.1, 81.7, 81.5, 66.6, 50.4, 113.1, 55.6, 122.8, 83.7, 45.5, 58.2, 67.5, 82.6, 87.9, 56.5, 62.2, 80.3, 81.5, 76.3, 92.6, 72.3, 83.3, 117.2, 76.2, 45.7, 70.1, 81.8, 55.4, 102.5, 88.4, 108.2, 96.9, 87.7, 80.2, 83.7, 82.7, 71.8, 52.8, 57.0, 50.4, 90.5, 93.4, 98.2, 45.3, 90.0, 77.4, 103.2, 45.5, 70.1, 85.3, 49.9, 94.0, 83.9, 93.9, 57.1, 66.0, 40.1, 103.6, 86.8, 69.5, 35.1, 101.6, 101.5, 73.3, 43.2, 97.3, 67.9, 90.2, 58.9, 102.3, 53.8, 85.6, 53.9, 101.4, 83.8, 87.4, 89.7, 48.7, 68.6, 64.1, 89.6, 82.0, 77.4, 103.6, 97.9, 58.2, 79.1, 83.5, 49.0, 95.1, 75.7, 49.5, 98.4, 46.6, 55.3, 45.4, 82.3, 58.1, 55.0, 63.0, 81.6, 113.6, 84.6, 56.8, 99.3, 63.8, 73.9, 82.7, 82.3, 70.3, 92.9, 85.2, 111.3, 100.0, 95.4, 111.3, 109.2, 93.3, 110.2, 75.3, 110.5, 95.0, 83.7, 51.4, 86.7, 89.9, 96.1, 84.5, 108.3, 82.9, 99.6, 100.2, 94.4, 54.1, 51.9, 82.1, 70.0, 85.6, 116.9, 86.1, 61.0, 67.6, 58.8, 90.8, 109.0, 48.6, 92.3, 77.1, 58.9, 40.1, 50.7, 58.1, 109.7, 106.3, 96.5, 81.6, 106.9, 81.2, 47.9, 102.1, 58.5, 61.7, 75.6, 68.7, 87.9, 88.4, 67.8, 107.4, 106.2, 99.3, 92.2, 84.9, 67.6, 84.8, 112.1, 89.2], \"type\": \"choropleth\"}], \"name\": \"12\"}]);\n",
              "                        }).then(function(){\n",
              "                            \n",
              "var gd = document.getElementById('e8ca76a6-979b-4982-ab2d-94767f9ecbcd');\n",
              "var x = new MutationObserver(function (mutations, observer) {{\n",
              "        var display = window.getComputedStyle(gd).display;\n",
              "        if (!display || display === 'none') {{\n",
              "            console.log([gd, 'removed!']);\n",
              "            Plotly.purge(gd);\n",
              "            observer.disconnect();\n",
              "        }}\n",
              "}});\n",
              "\n",
              "// Listen for the removal of the full notebook cells\n",
              "var notebookContainer = gd.closest('#notebook-container');\n",
              "if (notebookContainer) {{\n",
              "    x.observe(notebookContainer, {childList: true});\n",
              "}}\n",
              "\n",
              "// Listen for the clearing of the current output cell\n",
              "var outputEl = gd.closest('.output');\n",
              "if (outputEl) {{\n",
              "    x.observe(outputEl, {childList: true});\n",
              "}}\n",
              "\n",
              "                        })\n",
              "                };\n",
              "                \n",
              "            </script>\n",
              "        </div>\n",
              "</body>\n",
              "</html>"
            ]
          },
          "metadata": {
            "tags": []
          }
        }
      ]
    },
    {
      "cell_type": "code",
      "metadata": {
        "id": "UcXmchu7NSDm"
      },
      "source": [
        "\n"
      ],
      "execution_count": 94,
      "outputs": []
    }
  ]
}